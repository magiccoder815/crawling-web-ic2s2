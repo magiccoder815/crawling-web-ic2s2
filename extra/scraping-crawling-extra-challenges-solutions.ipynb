{
 "cells": [
  {
   "cell_type": "markdown",
   "metadata": {},
   "source": [
    "# Scraping and crawling the web: Extra challenges"
   ]
  },
  {
   "cell_type": "markdown",
   "metadata": {},
   "source": [
    "## Challenges: Making requests\n",
    "\n",
    "1. Write a function called `get_html` that takes a URL as an argument and returns the HTML contents as a string. Test your function on the page for [Sir Tim Berners-Lee](https://en.wikipedia.org/wiki/Tim_Berners-Lee).\n",
    "2. What happens if the request doesn't go so smoothly? Add a defensive measure to your function to check that the response recieved was successful."
   ]
  },
  {
   "cell_type": "markdown",
   "metadata": {},
   "source": [
    "### Part 1"
   ]
  },
  {
   "cell_type": "code",
   "execution_count": 1,
   "metadata": {},
   "outputs": [
    {
     "data": {
      "text/plain": [
       "'<!DOCTYPE html>\\n<html class=\"client-nojs\" lang=\"en\" dir=\"ltr\">\\n<head>\\n<meta charset=\"UTF-8\"/>\\n<title>Tim Berners-Lee - Wikipedia</title>\\n<script>document.documentElement.className=\"client-js\";RLCONF={\"wgBreakFrames\":!1,\"wgSeparatorTransformTable\":[\"\",\"\"],\"wgDigitTransformTable\":[\"\",\"\"],\"wgDefaultDateFormat\":\"dmy\",\"wgMonthNames\":[\"\",\"January\",\"February\",\"March\",\"April\",\"May\",\"June\",\"July\",\"August\",\"September\",\"October\",\"November\",\"December\"],\"wgRequestId\":\"ac1512c8-d147-46c3-8470-d690b06c9494\",\"wgCSPNonce\":!1,\"wgCanonicalNamespace\":\"\",\"wgCanonicalSpecialPageName\":!1,\"wgNamespaceNumber\":0,\"wgPageName\":\"Tim_Berners-Lee\",\"wgTitle\":\"Tim Berners-Lee\",\"wgCurRevisionId\":1013601970,\"wgRevisionId\":1013601970,\"wgArticleId\":30034,\"wgIsArticle\":!0,\"wgIsRedirect\":!1,\"wgAction\":\"view\",\"wgUserName\":null,\"wgUserGroups\":[\"*\"],\"wgCategories\":[\"Pages containing links to subscription-only content\",\"Wikipedia indefinitely move-protected pages\",\"Articles with short description\",\"Short description is differen'"
      ]
     },
     "execution_count": 1,
     "metadata": {},
     "output_type": "execute_result"
    }
   ],
   "source": [
    "import requests\n",
    "\n",
    "def get_html(url):\n",
    "    response = requests.get(url)\n",
    "    return response.text\n",
    "\n",
    "url = 'https://en.wikipedia.org/wiki/Tim_Berners-Lee'\n",
    "html = get_html(url)\n",
    "\n",
    "html[:1000]"
   ]
  },
  {
   "cell_type": "markdown",
   "metadata": {},
   "source": [
    "### Part 2"
   ]
  },
  {
   "cell_type": "code",
   "execution_count": 2,
   "metadata": {},
   "outputs": [
    {
     "data": {
      "text/plain": [
       "'<!DOCTYPE html>\\n<html class=\"client-nojs\" lang=\"en\" dir=\"ltr\">\\n<head>\\n<meta charset=\"UTF-8\"/>\\n<title>Tim Berners-Lee - Wikipedia</title>\\n<script>document.documentElement.className=\"client-js\";RLCONF={\"wgBreakFrames\":!1,\"wgSeparatorTransformTable\":[\"\",\"\"],\"wgDigitTransformTable\":[\"\",\"\"],\"wgDefaultDateFormat\":\"dmy\",\"wgMonthNames\":[\"\",\"January\",\"February\",\"March\",\"April\",\"May\",\"June\",\"July\",\"August\",\"September\",\"October\",\"November\",\"December\"],\"wgRequestId\":\"ac1512c8-d147-46c3-8470-d690b06c9494\",\"wgCSPNonce\":!1,\"wgCanonicalNamespace\":\"\",\"wgCanonicalSpecialPageName\":!1,\"wgNamespaceNumber\":0,\"wgPageName\":\"Tim_Berners-Lee\",\"wgTitle\":\"Tim Berners-Lee\",\"wgCurRevisionId\":1013601970,\"wgRevisionId\":1013601970,\"wgArticleId\":30034,\"wgIsArticle\":!0,\"wgIsRedirect\":!1,\"wgAction\":\"view\",\"wgUserName\":null,\"wgUserGroups\":[\"*\"],\"wgCategories\":[\"Pages containing links to subscription-only content\",\"Wikipedia indefinitely move-protected pages\",\"Articles with short description\",\"Short description is differen'"
      ]
     },
     "execution_count": 2,
     "metadata": {},
     "output_type": "execute_result"
    }
   ],
   "source": [
    "def get_html(url):\n",
    "    response = requests.get(url)\n",
    "    assert response.ok, \"Whoops, this request didn't go as planned!\"\n",
    "    return response.text\n",
    "    \n",
    "url = 'https://en.wikipedia.org/wiki/Tim_Berners-Lee'\n",
    "html = get_html(url)\n",
    "\n",
    "html[:1000]"
   ]
  },
  {
   "cell_type": "markdown",
   "metadata": {},
   "source": [
    "## Challenge: Parsing HTML\n",
    "\n",
    "Scrape a clean claim review explanation in [this claim review by FactCheck.org](https://www.factcheck.org/2019/10/trumps-claims-about-hunter-biden-in-china/). As usual, use your browser to inspect this website's HTML and identify any unique types and/or classes that enclose the explanation (and nothing else)."
   ]
  },
  {
   "cell_type": "code",
   "execution_count": 3,
   "metadata": {},
   "outputs": [
    {
     "data": {
      "text/plain": [
       "'The claim involves a cross-border private equity fund involving some state-owned financial companies in China. Biden served on the management companys board while his father was vice president, but his attorney says that was an unpaid position, that he did not create the company and has not yet received any money, let alone millions. The attorney says Hunter Biden only acquired a minority stake in the investment management company after his father left office. We have found no evidence to contradict that, and Trump hasnt provided any. We also found no evidence that Joe Biden used his position as vice president to enrich his son. Trump has made numerous comments calling for the investigation of Hunter Bidens business dealings in Ukraine and China, which the president suggests involved Joe Biden. We have written about how the president has twisted the facts on theBidens and Ukraine, and here we will address claims related to China. Trump hasrepeatedlyclaimedthatHunter Biden made millions of dollars from China very rapidly while his father was vice president. Trump and his personal attorney, Rudy Giuliani, have both claimed that Hunter Biden got $1.5 billion from China for a private equity fund. When Bidens son walks out of China with $1.5 billion in a fund  and the biggest funds in the world cant get money out of China  and hes there for one quick meeting, and he flies in on Air Force Two, I think thats a horrible thing. I think its a horrible thing, Trumpsaidduring a joint press conference with Ukrainian President Volodymyr Zelensky on Sept. 25. During an Oct. 3press conference, Trump called on China to start an investigation into the Bidens. Trump said China probably has enjoyed a sweetheart deal with the U.S. on trade, because they deal like people with Biden, where they give their son a billion and a half dollars. He called it a payoff. China has sincerejectedTrumps call to investigate the Bidens. OnABCs This Weekon Sept. 29, Giuliani rattled off various claims, including saying that Hunter Biden got $1.5 billion from China while [Vice President Biden was] negotiating with China. Giuliani, Sept. 29: And there are three partners, Rosemont Seneca. Thats Hunter Biden and [Christopher Heinz] the stepson of the  of the secretary of state [John Kerry]. The second partner is the Bank of China. And the third partner is a company called Thornton Group.  The $1.5 billion was in a company that was specially established called Bohai Harvest Rosemont Seneca or some crazy name like that. The partners were Joe Bidens son, John Kerrys stepson, the Bank of China, one-third partner at least, and the Thornton Group. That was owned by Whitey Bulgers nephew. Now, thats all out there. You can go and look at it. If Im wrong, Im wrong. It should be investigated. Hunter Biden was involved with the cross-border equity consortium in question, but the $1.5 billion was what the fund hoped to raise in 2014 for investments. It is not the value of the management company in which Hunter Biden now holds a minority share. Its unclear if that $1.5 billion goal was reached in its first year, as the investment fund had forecast, but the companywebsitesays it now manages assets worth the equivalent of over $2.1 billion in U.S. dollars. Giulianis mention of the three partners in Rosemont Seneca is a good place to start. The same year that Barack Obama and Joe Biden took over the White House in 2009, a general partnership formed that brought together Hunter Biden, son of then-Vice President Joe Biden, Christopher Heinz, stepson of then-Sen. John Kerry, and Devon Archer, a classmate of Heinzs from Yale. But all three did not participate in all of the deals undertaken under the Rosemont Seneca umbrella, with separate corporations formed for some deals. Such was the case with Biden and Archers foray into China. Heinzs attorneytoldThe Hillthat Heinz had no operating role in Rosemont Seneca and had nothing to do with any of the deals in question in China. Hunter Bidens role is also not as straightforward as the president and Giuliani say, according to Hunter Bidens attorney. But it is true that Hunter Biden and Archer made business overtures to high-ranking Chinese fund leaders as early as 2010. As conservative author Peter Schweizer details in his book Secret Empires, Biden and Archer, along with James Bulger of the consultancy firm the Thornton Group, took several meetings in 2010 with high-profile business and government interests in China. (As Giuliani said, James Bulger is the nephew of mobster Whitey Bulger, but hes alsothe sonof former Massachusetts state Sen. Billy Bulger.) Schweizer came across an account of the meetings posted by the Thornton Group  in Chinese  in which Chinese executives expressed theirwarmwelcome to the Thornton Group, with its US partner Rosemont Seneca chairman Hunter Biden(second son of the now Vice President Joe Biden). According to the Thornton Groups account  a copy of which Schweizer emailed to us  the purpose of the meetings was to explorethe possibility of commercial cooperation and opportunity. Flash forward three years to June 2013, and according to theNew Yorker, Archer,Jonathan Li who ran a Chinese private equity fund, Bohai Capital  and other partners signed a memorandum of understanding to create a cross-border private equity fund which they named BHR Partners, and, in November, they signed contracts related to the deal. (Some of those entities that met in China with Archer and Biden back in 2010,includingrepresentatives from the National Council of Social Security Fund and the Postal Savings Bank of China, ended up investing in the fund managed by BHR.) In December 2013, Hunter Biden and one of his daughtersflewon Air Force Two with Joe Biden to China, where the elder Biden was on a diplomatic mission. Hunter Bidens attorney, George Mesires, told theNew York Timesthat Hunter Biden went along because his daughter had been invited and needed a chaperone. Although Hunter Bidentold theNew Yorkerhe conducted no business while in China, he did arrange for a photo op with Li and his father, Joe Biden, in a hotel lobby. Hunter Biden told theNew Yorkerthat the meeting with Li, who would soon after become CEO of BHR, was purely social, and that he did not meet with any Chinese government officials about the fund on that trip. Mesirestold NBCHunter Biden he did not conduct any business on the trip. Mesires also toldNBC Newsthat BHRs initial formation documents were filed in November 2013  the month before the China trip  but that the business was officiallylaunchedwith a business license issued 10 days after the visit. Hunter Biden wasnamedto its board of directors. Archer was a vice chairman of the company and sat on its investment committee. According to a July 10, 2014,Wall Street Journalarticle, A consortium of foreign and Chinese private-equity firms is aiming to raise about $1.5 billion to invest abroad, with the yuan-denominated portion of the fund to be converted to U.S. dollars through Shanghais free-trade zone. Wall Street Journal, July 10, 2014: The fund  launched by Chinese asset managers Bohai Industrial Investment Fund Management Co. and Harvest Fund Management Co. alongside U.S. investment and advisory firms Rosemont Seneca Partners and Thornton Group LLC  started fundraising in the second quarter, and has raised its target to $1.5 billion from an original $1 billion plan, a spokesman at Bank of China International Holdings Ltd. said. BOCI is one of the largest stakeholders in Bohai. The Bohai-Harvest fund is likely one of the biggest Sino-foreign collaborations [between Chinese partners and foreign ones] in private equity to take advantage of the free-trade zones benefits in converting yuan to dollars that can then be invested in foreign companies. The funds are raising a combination of yuan and U.S. dollars. The effort is the latest example private equity pushing boundaries in an area that China hopes will help drive the countrys economic transformation. Normally, China restricts free conversion of its currency. Bohai and its partners are expected to finish fundraising by the end of this year, according to BOCIs spokesman and Lindsay Wright, co-chief executive officer of Harvest Capital Management Co., the subsidiary under Harvest that will hold a direct stake in the joint fund. According to the article, BOCI and Harvest both declined to say how much had been raised at that time. We dont know whether the $1.5 billion goal was ever reached. Nonetheless, thats the origin of the figure cited by Trump and Giuliani. (BHRswebsitesays the assets it now manages are worth over $2.1 billion.) Hunter Bidens attorney says Hunter Biden neither created the management company nor had an ownership stake until well after his father left office. BHR (Shanghai) Equity Investment Fund Management Company (BHR) is an investment management company that was formed in 2013, George Mesires told us via email. Hunter did not form BHR, was not an initial owner of BHR, and did not own any interest in BHR until October 2017, after his father had left government service. BHR was capitalized with approximately $4.2 million USD from various sources, not $1.5 billion. Hunter did not acquire any interest in BHR until October 2017 when he acquired a 10% interest, which has a $420,000 capital commitment. Trump and Hunter Bidens attorney are talking past each other a bit. Trump says Hunter Biden walk[ed] out of China with $1.5 billion in a fund. Bidens attorney dismissed that figure, saying BHR was capitalized with approximately $4.2 million USD from various sources, not $1.5 billion. The $1.5 billion figure refers to the size of the funds raised for investments. Hunter Biden did serve on BHRs original board of directors while his father was vice president, but Mesires told theWashington Postthat Biden was on the board of the advisory firm that did not directly invest, but instead advised those who did. Mesires told us, Hunter has not received any return on his investment or compensation on account of his position on the board of directors. A BHR representative told theNew Yorkerin July that although Hunter Biden served on the board, he was not a signatory to the BHR deal, and that the deal wasnt with Rosemont Seneca Partners, but rather with a holding company, established solely by Archer. Corporate registration recordsin China  captured by Schweizer in May  show that Rosemont Seneca Thornton LLC owned a 30% stake in BHR. We could not confirm if that was the holding company to which the BHR representatives referred. And Bidens attorney did not respond to our inquiries seeking details about that. Schweizer points to a screen grab from a 2016 version of theBHR websitethat lists Rosemont Seneca Partners as a sponsor of BHR. BHR website, Sept. 7, 2016:Formed in the Shanghai Free Trade Zone in December 2013 as its first cross-border investment private equity firm, BHR is the cross-border investment arm of Bohai Industrial Investment Fund Management Co., Ltd. (Bohai Capital). Our other sponsors include Harvest Fund Management Co., Ltd (Harvest), Rosemont Seneca Partners (RSP), Thornton Group LLC (Thornton) and our management team. We also enjoy the support of Bank of China, China Development Bank Capital, National Council of Social Security Fund, China Life, Postal Savings Bank of China, among others, as our suite of legacy shareholders through Bohai Capital. But according to Hunter Bidens attorney, Hunter Biden derived no financial benefit from the deal at that time. He was acting as an unpaid director advising investors in the fund. Mesires told theNew York Timesthat while Hunter Biden now has a 10% stake in BHR, which he acquired through a company he created named Skaneateles LLC, there have been no distributions to the shareholders since Hunter has been an equity owner. But that doesnt mean Biden wont eventually make millions from the deal.Steven Kaplan, who conducts research on issues in private equity, venture capital, entrepreneurial finance, corporate governance and corporate finance at the University of Chicago Booth School of Business, told us that a private equity fund with $2 billion under management will typically generate fees over its life of hundreds of millions of dollars. It is difficult to imagine, if not incomprehensible, that a 10% stake in those economics is worth only $420K, Kaplan told us via email. The distinction they appear to be making is they capitalized the management company with $4.2 M even if the fund manages $2 B. The value of that management company is likely far in excess of $4.2 M if they are managing $2 B. Kaplan pointed to two large publicly traded private equity firms for reference, both of which have a market value of about 10% of the assets under their management. Using that as a rough guide, that would put the value of Hunter Bidens share closer to $20 million, he said. There are still some unanswered questions about Hunter Biden and his role in the BHR deal, and his attorney did not get back to us when we had follow-up questions. We dont know details, for example, about the BHR representatives claim to theNew Yorkerabout Archer alone setting up a separate holding company apart from Rosemont Seneca Partners to make the initial BHR deal, though the fact that Hunter Biden used a separate corporation to acquire a 10% stake in BHR in 2017 may suggest he did not have any ownership stake prior to that. Although some may speculate about Hunter Bidens activities while on a diplomatic trip with his father in China, Hunter Biden told theWashington Postearlier this year, At no time have I discussed with my father the companys business or my board service. And Joe Biden in Iowa recently said, I have never spoken to my son about his overseas business dealings. In anop-ed for theNew York Timespublished on Oct. 9, Schweizer said Hunter Biden didnt do anything illegal in the China deal. While theForeign Corrupt Practices Actprohibits a U.S.-owned company from hiring the children of foreign government officials in the hopes of currying favor with their powerful parents, Schweizer wrote, it is not a violation if a foreign company hires or does business with the family members of American politicians. Schweizer argues, however, that such cronyism should be illegal. It gives the politically connected class enormously tempting opportunities for self-dealing, the sort of thing that is blatantly illegal in almost any other context, Schweizer wrote, adding that Biden landed a deal in China that he was apparently unqualified to score save for one thing: his father. Hunter Biden is not the first child of a prominent politician to be accused of having ties to a company doing business with a foreign country. Indeed,similar questionshave been raised about Trumps own family members. The president is free to question whether Hunter Biden capitalized on his fathers name to insert himself into a deal that involves investments by the Chinese government. But he goes beyond that to make unsubstantiated claims that Hunter Biden made millions and millions from China while his father was vice president and that he hitched a ride on Air Force Two to secure a $1.5 billion investment deal. Bidens attorney claims that Hunter Biden made no money off the deal while his father served as vice president, and has yet to see any return on his investment. We cannot verify either statement, and we cant say how much Hunter Biden might ultimately make from his 10% stake in BHR. But while Trump has called on China to open an investigation, there has been no evidence presented to date that suggests either Biden did anything illegal.'"
      ]
     },
     "execution_count": 3,
     "metadata": {},
     "output_type": "execute_result"
    }
   ],
   "source": [
    "# Import packages\n",
    "import requests\n",
    "from bs4 import BeautifulSoup\n",
    "\n",
    "# Set URL to scrape\n",
    "url = 'https://www.factcheck.org/2019/10/trumps-claims-about-hunter-biden-in-china/'\n",
    "\n",
    "# Scrape HTML with requests and beautifulsoup\n",
    "html = requests.get(url) \n",
    "soup = BeautifulSoup(html.text, 'html.parser') # use standard parser\n",
    "content = soup.find('div', class_='entry-content') # identify this class from looking at HTML\n",
    "paragraphs = content.find_all('p') # get all paragraphs\n",
    "\n",
    "# Get text from each paragraph and join together \n",
    "explanation = ' '.join([paragraph.get_text(strip=True).encode('ascii', 'ignore').decode('ascii') \n",
    "                        for paragraph in paragraphs[1:]])\n",
    "\n",
    "explanation"
   ]
  },
  {
   "cell_type": "markdown",
   "metadata": {},
   "source": [
    "## More Challenges: Extended parsing case study\n",
    "\n",
    "Imagine you're in the field of education, in fact your specialty is studying higher education institutions. You're wondering how different disciplines change over time. Is it true that disciplines are incorporating more computational techniques as the years go on? Is that true for all disciplines or only some? Can we spot emerging themes across a whole university?\n",
    "\n",
    "To answer these questions, we're going to need data. We're going to collect a dataset of all courses registered at UC Berkeley, not just those being taught this semester but all courses currently approved to be taught. These are listed on [this page](http://guide.berkeley.edu/courses/), called the Academic Guide. Well, actually they're not directly listed on that page. That page lists the departments/programs/units that teach currently approved courses. If we click on each department (for the sake of brevity, I'm just going to call them all \"departments\"), we can see the list of all courses they're approved to teach. For example, [here's](http://guide.berkeley.edu/courses/aerospc/) the page for Aerospace Studies. We'll call these pages departmental pages."
   ]
  },
  {
   "cell_type": "markdown",
   "metadata": {},
   "source": [
    "### Challenge\n",
    "\n",
    "View the source HTML of [the page listing all departments](http://guide.berkeley.edu/courses/), and see if you can find the part of the HTML where the departments are listed. There's a lot of other stuff in the file that we don't care too much about. You could try `Crtl-F`ing for the name of a department you can see on the webpage.\n",
    "\n",
    "\n",
    "\n",
    "\n",
    "\n",
    "\n",
    "\n",
    "**Solution**\n",
    "\n",
    "You should see something like this:\n",
    "\n",
    "\n",
    "```\n",
    "<div id=\"atozindex\">\n",
    "<h2 class=\"letternav-head\" id='A'><a name='A'>A</a></h2>\n",
    "<ul>\n",
    "<li><a href=\"/courses/aerospc/\">Aerospace Studies (AEROSPC)</a></li>\n",
    "<li><a href=\"/courses/africam/\">African American Studies (AFRICAM)</a></li>\n",
    "<li><a href=\"/courses/a,resec/\">Agricultural and Resource Economics (A,RESEC)</a></li>\n",
    "<li><a href=\"/courses/amerstd/\">American Studies (AMERSTD)</a></li>\n",
    "<li><a href=\"/courses/ahma/\">Ancient History and Mediterranean Archaeology (AHMA)</a></li>\n",
    "<li><a href=\"/courses/anthro/\">Anthropology (ANTHRO)</a></li>\n",
    "<li><a href=\"/courses/ast/\">Applied Science and Technology (AST)</a></li>\n",
    "<li><a href=\"/courses/arabic/\">Arabic (ARABIC)</a></li>\n",
    "<li><a href=\"/courses/arch/\">Architecture (ARCH)</a></li>\n",
    "```\n",
    "\n",
    "This is HTML. HTML uses \"tags\", code that surrounds the raw text which indicates the structure of the content. The tags are enclosed in `<` and `>` symbols. The `<li>` says \"this is a new thing in a list and `</li>` says \"that's the end of that new thing in the list\". Similarly, the `<a ...>` and the `</a>` say, \"everything between us is a hyperlink\". In this HTML file, each department is listed in a list with `<li>...</li>` and is also linked to its own page using `<a>...</a>`. In our browser, if we click on the name of the department, it takes us to that department's own page. The way the browser knows where to go is because the `<a>...</a>` tag tells it what page to go to. You'll see inside the `<a>` bit, there's a `href=...`. That tells us the (relative) location of the page it's linked to."
   ]
  },
  {
   "cell_type": "markdown",
   "metadata": {},
   "source": [
    "### Challenge\n",
    "\n",
    "Look at HTML source of [the page for the Aerospace Studies department](http://guide.berkeley.edu/courses/aerospc/), and try to find the part of the file where the information on each course is. Again, try searching for it using `Crtl-F`.\n",
    "\n",
    "**Solution**\n",
    "\n",
    "\n",
    "```\n",
    "<div class=\"courseblock\">\n",
    "\n",
    "<button class=\"btn_toggleCoursebody\" aria-expanded=\"false\" aria-controls=\"cb_aerospc1a\" data-toggle=\"#cb_aerospc1a\">\n",
    "\n",
    "<a name=\"spanaerospc1aspanspanfoundationsoftheu.s.airforcespanspan1unitspan\"></a>\n",
    "<h3 class=\"courseblocktitle\">\n",
    "<span class=\"code\">AEROSPC 1A</span> \n",
    "<span class=\"title\">Foundations of the U.S. Air Force</span> \n",
    "<span class=\"hours\">1 Unit</span>\n",
    "</h3>\n",
    "```\n",
    "\n",
    "The content that we care about is enclosed within HTML tags. It looks like the course code is enclosed in a `span` tag, which has a `class` attribute with the value `\"code\"`. What we'll have to do is extract out the information we care about by specifying what tag it's enclosed in.\n",
    "\n",
    "But first, we're going to need to get the HTML of the first page."
   ]
  },
  {
   "cell_type": "markdown",
   "metadata": {},
   "source": [
    "### Challenge\n",
    "\n",
    "Get the HTML content of `http://guide.berkeley.edu/courses/` and store it in a variable called `academic_guide_html`. You can use the `get_html` function you wrote before.\n",
    "\n",
    "Print the first 500 characters to see what we got back."
   ]
  },
  {
   "cell_type": "code",
   "execution_count": 4,
   "metadata": {},
   "outputs": [
    {
     "name": "stdout",
     "output_type": "stream",
     "text": [
      "<!doctype html>\n",
      "<html xml:lang=\"en\" lang=\"en\" dir=\"ltr\">\n",
      "\n",
      "<head>\n",
      "<title>Courses &lt; University of California, Berkeley</title>\n",
      "<meta http-equiv=\"Content-Type\" content=\"text/html; charset=utf-8\" />\n",
      "<link rel=\"search\" type=\"application/opensearchdescription+xml\"\n",
      "\t\t\thref=\"/search/opensearch.xml\" title=\"Catalog\" />\n",
      "<meta name=\"viewport\" content=\"width=device-width, initial-scale=1.0, minimum-scale=1.0\" />\n",
      "<link href=\"/favicon.ico\" rel=\"shortcut icon\" />\n",
      "<link rel=\"stylesheet\" type=\"text/css\" href=\"\n"
     ]
    }
   ],
   "source": [
    "academic_guide_url = 'http://guide.berkeley.edu/courses/'\n",
    "academic_guide_html = get_html(academic_guide_url)\n",
    "print(academic_guide_html[:500])"
   ]
  },
  {
   "cell_type": "markdown",
   "metadata": {},
   "source": [
    "Great, we've got the HTML contents of the Academic Guide site we want to scrape. Now we can parse it. [\"Parsing\"](https://en.wikipedia.org/wiki/Parsing) means to turn a string of data into a structured representation. When we're parsing HTML, we're taking the Python string and turning it into a tree. The Python package `BeautifulSoup` does all our HTML parsing for us. We give it our HTML as a string and it returns a parsed HTML tree. Here, we're also telling BeautifulSoup to use the `lxml` parser behind the scenes."
   ]
  },
  {
   "cell_type": "code",
   "execution_count": 5,
   "metadata": {},
   "outputs": [],
   "source": [
    "from bs4 import BeautifulSoup\n",
    "\n",
    "academic_guide_soup = BeautifulSoup(academic_guide_html, 'lxml')"
   ]
  },
  {
   "cell_type": "markdown",
   "metadata": {},
   "source": [
    "We said before that all the departments were listed on the Academic Guide page with links to their departmental page, where the actual courses are listed. So we can find all the departments by looking in our parsed HTML for all the links. Remember that the links are represented in the HTML with the `<a>...</a>` tag, so we ask our `academic_guide_soup` to find us all the tags called `a`. What we get back is a list of all the `a` elements in the HTML page."
   ]
  },
  {
   "cell_type": "code",
   "execution_count": 6,
   "metadata": {},
   "outputs": [
    {
     "data": {
      "text/plain": [
       "<a name=\"A\">A</a>"
      ]
     },
     "execution_count": 6,
     "metadata": {},
     "output_type": "execute_result"
    }
   ],
   "source": [
    "links = academic_guide_soup.find_all('a')\n",
    "# print a random link element\n",
    "links[48]"
   ]
  },
  {
   "cell_type": "markdown",
   "metadata": {},
   "source": [
    "So now we have a list of `a` elements, each one represents a link on the Academic Guide page. But there are other links on this page in addition to the ones we care about, for example, a link back to the UC Berkeley home page. How can we filter out all the links we don't care about?"
   ]
  },
  {
   "cell_type": "markdown",
   "metadata": {},
   "source": [
    "### Challenge\n",
    "\n",
    "Look through the list `links`, or the HTML source, and figure out how we can identify just the links that we care about, namely the links to departmental pages."
   ]
  },
  {
   "cell_type": "code",
   "execution_count": 7,
   "metadata": {},
   "outputs": [
    {
     "name": "stdout",
     "output_type": "stream",
     "text": [
      "<a href=\"#main\" rel=\"section\">Skip to Content</a>\n",
      "False\n",
      "\n",
      "<a name=\"A\">A</a>\n",
      "False\n"
     ]
    }
   ],
   "source": [
    "import re\n",
    "\n",
    "def is_departmental_page(link):\n",
    "    \"\"\"\n",
    "    Return true if `link` points to a departmental page.\n",
    "    \n",
    "    By examining the source HTML by eye, I noticed that \n",
    "    the links we care about (i.e. the departmental pages) \n",
    "    all point to a relative path that starts with \"/courses/\".\n",
    "    This function uses that idea to determine if the link is \n",
    "    a departmental page.\n",
    "    \"\"\"\n",
    "    # some links don't have a href attribute, only a name attribute\n",
    "    # we don't care about them\n",
    "    try:\n",
    "        href = link.attrs['href'] \n",
    "    except KeyError:\n",
    "        return False\n",
    "    pattern = r'/courses/(.*)/'\n",
    "    match = re.search(pattern, href)\n",
    "    return bool(match)\n",
    "\n",
    "print(links[0])\n",
    "print(is_departmental_page(links[0]))\n",
    "print()\n",
    "print(links[48])\n",
    "print(is_departmental_page(links[48]))"
   ]
  },
  {
   "cell_type": "markdown",
   "metadata": {},
   "source": [
    "Let's use our new `is_departmental_page` function to filter out the links we don't care about. How many departments do we have?"
   ]
  },
  {
   "cell_type": "code",
   "execution_count": 8,
   "metadata": {},
   "outputs": [
    {
     "data": {
      "text/plain": [
       "185"
      ]
     },
     "execution_count": 8,
     "metadata": {},
     "output_type": "execute_result"
    }
   ],
   "source": [
    "departmental_page_links = [link for link in links if is_departmental_page(link)]\n",
    "len(departmental_page_links)"
   ]
  },
  {
   "cell_type": "markdown",
   "metadata": {},
   "source": [
    "Each link in our `departmental_page_links` list contains a HTML element representing a link. Each element contains not only the relative location of the link but also the text that is linked (i.e. the words on the page that are underlined and you can click on to go to the linked page). In BeautifulSoup, we can get that text by asking for it with `element.text`, like this:"
   ]
  },
  {
   "cell_type": "code",
   "execution_count": 9,
   "metadata": {},
   "outputs": [
    {
     "data": {
      "text/plain": [
       "'Aerospace Studies (AEROSPC)'"
      ]
     },
     "execution_count": 9,
     "metadata": {},
     "output_type": "execute_result"
    }
   ],
   "source": [
    "departmental_page_links[0].text"
   ]
  },
  {
   "cell_type": "markdown",
   "metadata": {},
   "source": [
    "### Challenge\n",
    "\n",
    "From the `departmental_page_links`, we can extract out the name and the code for each department. Try doing this."
   ]
  },
  {
   "cell_type": "code",
   "execution_count": 10,
   "metadata": {},
   "outputs": [],
   "source": [
    "import re\n",
    "\n",
    "def extract_department_name_and_code(departmental_link):\n",
    "    \"\"\"\n",
    "    Return the (name, code) for a department.\n",
    "    \n",
    "    The easiest way to do this is to use regular expressions. \n",
    "    We're not going to cover regular expressions in this workshop, \n",
    "    but here's how to do it anyway.\n",
    "    \"\"\"\n",
    "    text = departmental_link.text\n",
    "    pattern = r'([^(]+) \\((.*)\\)'\n",
    "    match = re.search(pattern, text)\n",
    "    if match:\n",
    "        return match.group(1), match.group(2)\n",
    "\n",
    "extract_department_name_and_code(links[48])"
   ]
  },
  {
   "cell_type": "markdown",
   "metadata": {},
   "source": [
    "From each link in our `departmental_page_links` list, we can get the relative link that it points to like this:"
   ]
  },
  {
   "cell_type": "code",
   "execution_count": 11,
   "metadata": {},
   "outputs": [
    {
     "data": {
      "text/plain": [
       "'/courses/aerospc/'"
      ]
     },
     "execution_count": 11,
     "metadata": {},
     "output_type": "execute_result"
    }
   ],
   "source": [
    "departmental_page_links[0].attrs['href']"
   ]
  },
  {
   "cell_type": "markdown",
   "metadata": {},
   "source": [
    "### Challenge\n",
    "\n",
    "Write a function that extracts out the relative link of a link element.\n",
    "\n",
    "*Hint: This has a similar solution to our `is_departmental_page` function from before.*"
   ]
  },
  {
   "cell_type": "code",
   "execution_count": 12,
   "metadata": {},
   "outputs": [
    {
     "data": {
      "text/plain": [
       "'aerospc'"
      ]
     },
     "execution_count": 12,
     "metadata": {},
     "output_type": "execute_result"
    }
   ],
   "source": [
    "def extract_relative_link(departmental_link):\n",
    "    \"\"\"\n",
    "    We noted above that all the departmental links point to \"/courses/something/\", \n",
    "    where the \"something\" looks a lot like their code. This function \n",
    "    extracts out that \"something\", so we can add it to the base URL of \n",
    "    the Academic Guide page and get full paths to each departmental page.\n",
    "    \"\"\"\n",
    "    href = departmental_link.attrs['href']\n",
    "    pattern = r'/courses/(.*)/'\n",
    "    match = re.search(pattern, href)\n",
    "    if match:\n",
    "        return match.group(1)\n",
    "\n",
    "extract_relative_link(departmental_page_links[0])"
   ]
  },
  {
   "cell_type": "markdown",
   "metadata": {},
   "source": [
    "All right! Now we've identified all the departmental links on the Academic Guide page, we've found their name and code, and we know the relative link they point to. Next, we can use this relative link to construct the full URL they point to, which we'll then use to scrape the HTML for each departmental page.\n",
    "\n",
    "Let's write a function that takes a departmental link and returns the absolute URL of its departmental page."
   ]
  },
  {
   "cell_type": "code",
   "execution_count": 13,
   "metadata": {},
   "outputs": [
    {
     "data": {
      "text/plain": [
       "'http://guide.berkeley.edu/courses/civ_eng'"
      ]
     },
     "execution_count": 13,
     "metadata": {},
     "output_type": "execute_result"
    }
   ],
   "source": [
    "def construct_absolute_url(departmental_link):\n",
    "    relative_link = extract_relative_link(departmental_link)\n",
    "    return academic_guide_url + relative_link\n",
    "\n",
    "construct_absolute_url(departmental_page_links[37])"
   ]
  },
  {
   "cell_type": "markdown",
   "metadata": {},
   "source": [
    "To summarize so far, we've gone from the URL of the Academic Guide website, found all the departments that offer approved courses, identified their name and code and the link to their departmental page which lists all the courses they teach. \n",
    "\n",
    "Now we want to find the get the HTML for each departmental page and scrape it for all the courses they offer. Let's focus on one page for now, the Aerospace Studies page. Once we select the link, we use our functions from above to: i) get the name (I guess we already know it's Aerospace, but whatever) and code, get the full URL, get the HTML for that URL and then parse the HTML."
   ]
  },
  {
   "cell_type": "code",
   "execution_count": 14,
   "metadata": {},
   "outputs": [
    {
     "name": "stdout",
     "output_type": "stream",
     "text": [
      "<!doctype html>\n",
      "<html xml:lang=\"en\" lang=\"en\" dir=\"ltr\">\n",
      "\n",
      "<head>\n",
      "<title>Aerospace Studies (AEROSPC) &lt; University of California, Berkeley</title>\n",
      "<meta http-equiv=\"Content-Type\" content=\"text/html; charset=utf-8\" />\n",
      "<meta name=\"description\" content=\"Aerospace Studies Courses\" />\n",
      "<link rel=\"search\" type=\"application/opensearchdescription+xml\"\n",
      "\t\t\thref=\"/search/opensearch.xml\" title=\"Catalog\" />\n",
      "<meta name=\"viewport\" content=\"width=device-width, initial-scale=1.0, minimum-scale=1.0\" />\n",
      "<link href\n"
     ]
    }
   ],
   "source": [
    "aerospace_link = departmental_page_links[0]\n",
    "aerospace_name, aerospace_code = extract_department_name_and_code(aerospace_link)\n",
    "aerospace_url = construct_absolute_url(aerospace_link)\n",
    "aerospace_html = get_html(aerospace_url)\n",
    "aerospace_soup = BeautifulSoup(aerospace_html, 'lxml')\n",
    "print(aerospace_html[:500])"
   ]
  },
  {
   "cell_type": "markdown",
   "metadata": {},
   "source": [
    "Right at the start of this section on parsing HTML, we saw the HTML for a departmental page. Here it is again.\n",
    "\n",
    "```\n",
    "<div class=\"courseblock\">\n",
    "\n",
    "<button class=\"btn_toggleCoursebody\" aria-expanded=\"false\" aria-controls=\"cb_aerospc1a\" data-toggle=\"#cb_aerospc1a\">\n",
    "\n",
    "<a name=\"spanaerospc1aspanspanfoundationsoftheu.s.airforcespanspan1unitspan\"></a>\n",
    "<h3 class=\"courseblocktitle\">\n",
    "<span class=\"code\">AEROSPC 1A</span> \n",
    "<span class=\"title\">Foundations of the U.S. Air Force</span> \n",
    "<span class=\"hours\">1 Unit</span>\n",
    "</h3>\n",
    "```\n",
    "\n",
    "It looks like each course is listed in a `div` element that has a `class` attribute with value `\"courseblock\"`. We can use this information to identify all the courses on a page and then extract out the information from them. You've seen how to do this before, here it is again:"
   ]
  },
  {
   "cell_type": "code",
   "execution_count": 15,
   "metadata": {},
   "outputs": [
    {
     "data": {
      "text/plain": [
       "7"
      ]
     },
     "execution_count": 15,
     "metadata": {},
     "output_type": "execute_result"
    }
   ],
   "source": [
    "aerospace_courseblocks = aerospace_soup.find_all(class_='courseblock')\n",
    "len(aerospace_courseblocks)"
   ]
  },
  {
   "cell_type": "markdown",
   "metadata": {},
   "source": [
    "Looks like the Aerospace department has seven current courses they're approved to teach (at the time of writing). Looking at the page in our browser, that looks right to me! So now we have a list called `aerospace_courseblocks` that holds seven elements that each refer to one course taught by the Aerospace department. Now we can extract out any information we care about. We just have to look at the page in our browser, decide what information we care about, then look at the HTML source to see where that information is kept in the HTML structure. Finally, we write a function for each piece of information we want to extract out of a course."
   ]
  },
  {
   "cell_type": "markdown",
   "metadata": {},
   "source": [
    "### Challenge\n",
    "Write functions to take a courseblock and extract:\n",
    "- The course code (e.g. AEROSPC 1A)\n",
    "- The coure name\n",
    "- The number of units\n",
    "- The textual description of the course"
   ]
  },
  {
   "cell_type": "code",
   "execution_count": 16,
   "metadata": {},
   "outputs": [
    {
     "name": "stdout",
     "output_type": "stream",
     "text": [
      "AEROSPC 1A\n",
      "\n",
      "Foundations of the U.S. Air Force\n",
      "\n",
      "1 Unit\n",
      "\n",
      "\n",
      "Terms offered: Spring 2021, Fall 2020, Spring 2020\n",
      "This course introduces students to the United States Air Force (USAF) and Air Force Reserve Officer Training Corps (AFROTC) with an overview of the basic characteristics, missions, and organization of the Air Force; additional topics include officership and professionalism, Air Force career opportunities, military customs and courtesies, and an introduction to USAF basic communication skills. Additionally, AFROTC cadets must attend weekly Leadership Lab. Leadership Lab is a weekly laboratory that touches on the topics of Air Force customs and courtesies, health and physical fitness, and drills and ceremonies.\n",
      "Foundations of the U.S. Air Force: Read More [+]\n",
      "\n",
      "Hours & FormatFall and/or spring: 15 weeks - 1 hour of lecture per week\n",
      "Additional DetailsSubject/Course Level: Aerospace Studies/UndergraduateGrading/Final exam status: Letter grade. Final exam required. \n",
      "Foundations of the U.S. Air Force: Read Less [-] \n",
      "\n",
      "\n"
     ]
    }
   ],
   "source": [
    "def extract_course_code(courseblock):\n",
    "    span = courseblock.find(class_='code')\n",
    "    return span.text\n",
    "\n",
    "def extract_course_title(courseblock):\n",
    "    span = courseblock.find(class_='title')\n",
    "    return span.text\n",
    "\n",
    "def extract_course_units(courseblock):\n",
    "    span = courseblock.find(class_='hours')\n",
    "    return span.text\n",
    "\n",
    "def extract_course_description(courseblock):\n",
    "    span = courseblock.find(class_='coursebody')\n",
    "    return span.text\n",
    "\n",
    "def extract_one_course(courseblock):\n",
    "    course = {}\n",
    "    course['course_code'] = extract_course_code(courseblock)\n",
    "    course['course_title'] = extract_course_title(courseblock)\n",
    "    course['course_units'] = extract_course_units(courseblock)\n",
    "    course['course_description'] = extract_course_description(courseblock)\n",
    "    return course\n",
    "\n",
    "first_aerospace_course = extract_one_course(aerospace_courseblocks[0])\n",
    "for value in first_aerospace_course.values():\n",
    "    print(value)\n",
    "    print()"
   ]
  },
  {
   "cell_type": "markdown",
   "metadata": {},
   "source": [
    "Let's write a function to scrape these four pieces of information from every course from every department and save it as a csv file."
   ]
  },
  {
   "cell_type": "code",
   "execution_count": 17,
   "metadata": {},
   "outputs": [
    {
     "name": "stdout",
     "output_type": "stream",
     "text": [
      "AEROSPC 1A\n",
      "\n",
      "Foundations of the U.S. Air Force\n",
      "\n",
      "1 Unit\n",
      "\n",
      "\n",
      "Terms offered: Spring 2021, Fall 2020, Spring 2020\n",
      "This course introduces students to the United States Air Force (USAF) and Air Force Reserve Officer Training Corps (AFROTC) with an overview of the basic characteristics, missions, and organization of the Air Force; additional topics include officership and professionalism, Air Force career opportunities, military customs and courtesies, and an introduction to USAF basic communication skills. Additionally, AFROTC cadets must attend weekly Leadership Lab. Leadership Lab is a weekly laboratory that touches on the topics of Air Force customs and courtesies, health and physical fitness, and drills and ceremonies.\n",
      "Foundations of the U.S. Air Force: Read More [+]\n",
      "\n",
      "Hours & FormatFall and/or spring: 15 weeks - 1 hour of lecture per week\n",
      "Additional DetailsSubject/Course Level: Aerospace Studies/UndergraduateGrading/Final exam status: Letter grade. Final exam required. \n",
      "Foundations of the U.S. Air Force: Read Less [-] \n",
      "\n",
      "\n",
      "Aerospace Studies\n",
      "\n",
      "AEROSPC\n",
      "\n"
     ]
    }
   ],
   "source": [
    "def scrape_one_department(department_link):\n",
    "    department_name, department_code = extract_department_name_and_code(department_link)\n",
    "    department_url = construct_absolute_url(department_link)\n",
    "    department_html = get_html(department_url)\n",
    "    department_soup = BeautifulSoup(department_html, 'lxml')\n",
    "    department_courseblocks = department_soup.find_all(class_='courseblock')\n",
    "    result = []\n",
    "    for courseblock in department_courseblocks:\n",
    "        course = extract_one_course(courseblock)\n",
    "        course['department_name'] = department_name\n",
    "        course['department_code'] = department_code\n",
    "        result.append(course)\n",
    "    return result\n",
    "\n",
    "aerospace_courses = scrape_one_department(aerospace_link)\n",
    "for value in aerospace_courses[0].values():\n",
    "    print(value)\n",
    "    print()"
   ]
  },
  {
   "cell_type": "code",
   "execution_count": 18,
   "metadata": {},
   "outputs": [],
   "source": [
    "import time\n",
    "\n",
    "def scrape_all_departments(be_nice=True):\n",
    "    academic_guide_url = 'http://guide.berkeley.edu/courses/'\n",
    "    academic_guide_html = get_html(academic_guide_url)\n",
    "    academic_guide_soup = BeautifulSoup(academic_guide_html, 'lxml')\n",
    "    links = academic_guide_soup.find_all('a')\n",
    "    departmental_page_links = [link for link in links if is_departmental_page(link)]\n",
    "    \n",
    "    result = []\n",
    "    for departmental_page_link in departmental_page_links:\n",
    "        department_result = scrape_one_department(departmental_page_link)\n",
    "        result.extend(department_result)\n",
    "        if be_nice:\n",
    "            time.sleep(1)\n",
    "    return result"
   ]
  },
  {
   "cell_type": "code",
   "execution_count": 19,
   "metadata": {},
   "outputs": [
    {
     "name": "stdout",
     "output_type": "stream",
     "text": [
      "9842 courses scraped\n"
     ]
    },
    {
     "data": {
      "text/html": [
       "<div>\n",
       "<style scoped>\n",
       "    .dataframe tbody tr th:only-of-type {\n",
       "        vertical-align: middle;\n",
       "    }\n",
       "\n",
       "    .dataframe tbody tr th {\n",
       "        vertical-align: top;\n",
       "    }\n",
       "\n",
       "    .dataframe thead th {\n",
       "        text-align: right;\n",
       "    }\n",
       "</style>\n",
       "<table border=\"1\" class=\"dataframe\">\n",
       "  <thead>\n",
       "    <tr style=\"text-align: right;\">\n",
       "      <th></th>\n",
       "      <th>course_code</th>\n",
       "      <th>course_title</th>\n",
       "      <th>course_units</th>\n",
       "      <th>course_description</th>\n",
       "      <th>department_name</th>\n",
       "      <th>department_code</th>\n",
       "    </tr>\n",
       "  </thead>\n",
       "  <tbody>\n",
       "    <tr>\n",
       "      <th>0</th>\n",
       "      <td>AEROSPC 1A</td>\n",
       "      <td>Foundations of the U.S. Air Force</td>\n",
       "      <td>1 Unit</td>\n",
       "      <td>\\nTerms offered: Spring 2021, Fall 2020, Sprin...</td>\n",
       "      <td>Aerospace Studies</td>\n",
       "      <td>AEROSPC</td>\n",
       "    </tr>\n",
       "    <tr>\n",
       "      <th>1</th>\n",
       "      <td>AEROSPC 1B</td>\n",
       "      <td>Foundations of the U.S. Air Force</td>\n",
       "      <td>1 Unit</td>\n",
       "      <td>\\nTerms offered: Spring 2021, Spring 2020, Spr...</td>\n",
       "      <td>Aerospace Studies</td>\n",
       "      <td>AEROSPC</td>\n",
       "    </tr>\n",
       "    <tr>\n",
       "      <th>2</th>\n",
       "      <td>AEROSPC 2A</td>\n",
       "      <td>The Evolution of Air and Space Power</td>\n",
       "      <td>1 Unit</td>\n",
       "      <td>\\nTerms offered: Spring 2021, Fall 2020, Fall ...</td>\n",
       "      <td>Aerospace Studies</td>\n",
       "      <td>AEROSPC</td>\n",
       "    </tr>\n",
       "    <tr>\n",
       "      <th>3</th>\n",
       "      <td>AEROSPC 2B</td>\n",
       "      <td>The Evolution of Air and Space Power</td>\n",
       "      <td>1 Unit</td>\n",
       "      <td>\\nTerms offered: Spring 2021, Spring 2020, Spr...</td>\n",
       "      <td>Aerospace Studies</td>\n",
       "      <td>AEROSPC</td>\n",
       "    </tr>\n",
       "    <tr>\n",
       "      <th>4</th>\n",
       "      <td>AEROSPC 100</td>\n",
       "      <td>Leadership Laboratory</td>\n",
       "      <td>0.0 Units</td>\n",
       "      <td>\\nTerms offered: Spring 2021, Fall 2020, Sprin...</td>\n",
       "      <td>Aerospace Studies</td>\n",
       "      <td>AEROSPC</td>\n",
       "    </tr>\n",
       "  </tbody>\n",
       "</table>\n",
       "</div>"
      ],
      "text/plain": [
       "   course_code                          course_title course_units  \\\n",
       "0   AEROSPC 1A     Foundations of the U.S. Air Force       1 Unit   \n",
       "1   AEROSPC 1B     Foundations of the U.S. Air Force       1 Unit   \n",
       "2   AEROSPC 2A  The Evolution of Air and Space Power       1 Unit   \n",
       "3   AEROSPC 2B  The Evolution of Air and Space Power       1 Unit   \n",
       "4  AEROSPC 100                 Leadership Laboratory    0.0 Units   \n",
       "\n",
       "                                  course_description    department_name  \\\n",
       "0  \\nTerms offered: Spring 2021, Fall 2020, Sprin...  Aerospace Studies   \n",
       "1  \\nTerms offered: Spring 2021, Spring 2020, Spr...  Aerospace Studies   \n",
       "2  \\nTerms offered: Spring 2021, Fall 2020, Fall ...  Aerospace Studies   \n",
       "3  \\nTerms offered: Spring 2021, Spring 2020, Spr...  Aerospace Studies   \n",
       "4  \\nTerms offered: Spring 2021, Fall 2020, Sprin...  Aerospace Studies   \n",
       "\n",
       "  department_code  \n",
       "0         AEROSPC  \n",
       "1         AEROSPC  \n",
       "2         AEROSPC  \n",
       "3         AEROSPC  \n",
       "4         AEROSPC  "
      ]
     },
     "execution_count": 19,
     "metadata": {},
     "output_type": "execute_result"
    }
   ],
   "source": [
    "import pandas as pd\n",
    "result = scrape_all_departments(be_nice=False)\n",
    "df = pd.DataFrame(result)\n",
    "print(str(len(df)) + ' courses scraped')\n",
    "df.head()"
   ]
  },
  {
   "cell_type": "markdown",
   "metadata": {},
   "source": [
    "9842 courses scraped! (At the time of writing). Wow, that was a lot easier than doing it by hand!"
   ]
  }
 ],
 "metadata": {
  "kernelspec": {
   "display_name": "Python 3",
   "language": "python",
   "name": "python3"
  },
  "language_info": {
   "codemirror_mode": {
    "name": "ipython",
    "version": 3
   },
   "file_extension": ".py",
   "mimetype": "text/x-python",
   "name": "python",
   "nbconvert_exporter": "python",
   "pygments_lexer": "ipython3",
   "version": "3.8.5"
  }
 },
 "nbformat": 4,
 "nbformat_minor": 4
}

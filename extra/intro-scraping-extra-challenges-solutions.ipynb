{
 "cells": [
  {
   "cell_type": "markdown",
   "metadata": {},
   "source": [
    "# Introduction to web-scraping: Extra challenges"
   ]
  },
  {
   "cell_type": "markdown",
   "metadata": {},
   "source": [
    "## Challenge: Scraping URLs with a blacklist"
   ]
  },
  {
   "cell_type": "markdown",
   "metadata": {},
   "source": [
    "1. Use automated google searching to get 10 URLs for Dr. David C. Walker Intermediate School, located at 6500 Ih 35 N Ste C, San Antonio, TX 78218. \n",
    "2. Get the first result that doesn't match any domain on the blacklist in `../assets/blacklist_school_domains.csv`. \n",
    "3. Get the first 10-20 quality results--those that don't match any blacklisted domain."
   ]
  },
  {
   "cell_type": "markdown",
   "metadata": {},
   "source": [
    "### Part 1"
   ]
  },
  {
   "cell_type": "code",
   "execution_count": 15,
   "metadata": {},
   "outputs": [
    {
     "name": "stdout",
     "output_type": "stream",
     "text": [
      "https://www.niche.com/k12/dr-david-c-walker-intermediate-school-san-antonio-tx/\n",
      "https://www.har.com/school/015806106/dr-david-c-walker-elementary-school\n",
      "https://www.greatschools.org/texas/san-antonio/12035-Dr-David-C-Walker-Intermediate-School/\n",
      "https://www.usnews.com/education/k12/texas/dr-david-c-walker-el-206298\n",
      "https://www.publicschoolreview.com/dr-david-c-walker-elementary-school-profile\n",
      "https://nces.ed.gov/ccd/schoolsearch/school_detail.asp?ID=480006211404\n",
      "https://www.dnb.com/business-directory/company-profiles.school_of_excellence_in_education.8fde8b90005cb3de714dd31c0d8e98f4.html\n",
      "https://www.schooldigger.com/go/TX/schools/0006211404/school.aspx\n",
      "https://elementaryschools.org/directory/tx/cities/san-antonio/dr-david-c-walker-elementary/480006211404/\n",
      "https://closelocation.com/find-school/dr-david-c-walker-elementary-school-school-in-basse-basse-16-11508-1216-80\n"
     ]
    }
   ],
   "source": [
    "# Import automated Google search package\n",
    "from googlesearch import search\n",
    "\n",
    "# Your solution here\n",
    "\n",
    "# Define metadata\n",
    "school_name = 'Dr. David C. Walker Intermediate School'\n",
    "school_address = '6500 Ih 35 N Ste C, San Antonio, TX 78218'\n",
    "\n",
    "# Automated search\n",
    "for url in search(school_name + ' ' + school_address, \\\n",
    "                  stop=10, pause=5.0):\n",
    "    print(url)"
   ]
  },
  {
   "cell_type": "markdown",
   "metadata": {},
   "source": [
    "### Part 2"
   ]
  },
  {
   "cell_type": "code",
   "execution_count": 22,
   "metadata": {},
   "outputs": [
    {
     "name": "stdout",
     "output_type": "stream",
     "text": [
      "['high-schools.com', 'yelp.com', 'har.com', 'trulia.com', 'redfin.com', 'practutor.com', 'startclass.com', 'greatschools.org', 'greatschools.com', 'greatschools.net', 'paschoolperformance.org', 'worldcontactinfo.com', 'kula.com', 'mapquest.com', 'maps.net', 'google.com', 'facebook.com', 'zillow.com', 'manta.com', 'yellowpages.com', 'usnews.com', 'publicschoolreview.com', 'publicschoolreview.org', 'schooldigger.com', 'niche.com', 'privateschoolreview.com', 'cappex.com', 'collegeconfidential.com', 'tripsadvisor.com', 'groupon.com', 'school-ratings.com', 'superpages.com', 'onsaleph.com', 'psk12.com', 'schoolmatters.com', 'neighborhoodscout.com', 'localschooldirectory.com', 'publicschoolsk12.com', 'schooldatadirect.org', 'nces.ed.gov', 'cityrating.com', 'blogspot.com', 'public-schools.findthebest.com', 'twitter.com', 'zoominfo.com', 'jigsaw.com', 'hoovers.com', 'corporateinformation.com', 'doe.k12.ga.us', 'gradeschools.net', 'charterschoolratings.net', 'schools.net', 'insiderpages.com', 'parentstown.com', 'freepreschools.org', 'fresno.schools.net', 'baldwin.school.org', 'illinoisschools.com', 'seattleprogressiveschools.org', 'schoolchoiceintl.com', 'ratemyteachers.com', 'ade.az.gov', 'cde.ca.gov', 'realtytrac.com', 'dnb.com', 'elementaryschools.org', 'closelocation.com', 'castro.tea.state.tx.us']\n"
     ]
    }
   ],
   "source": [
    "# Import packages\n",
    "import re\n",
    "\n",
    "# Define blacklisted domains to filter out: third-party domains/false positives that we DON'T want to scrape \n",
    "blacklist = []\n",
    "with open('../extra/blacklist_school_domains.csv', 'r', encoding = 'utf-8') as csvfile:\n",
    "    for row in csvfile:\n",
    "        blacklist.append(re.sub('\\n', '', row))\n",
    "\n",
    "print(blacklist)"
   ]
  },
  {
   "cell_type": "code",
   "execution_count": 23,
   "metadata": {},
   "outputs": [
    {
     "name": "stdout",
     "output_type": "stream",
     "text": [
      "Successfully collected Google search results.\n",
      "Bad site detected: https://www.niche.com/k12/dr-david-c-walker-intermediate-school-san-antonio-tx/\n",
      "Bad site detected: https://www.har.com/school/015806106/dr-david-c-walker-elementary-school\n",
      "Bad site detected: https://www.greatschools.org/texas/san-antonio/12035-Dr-David-C-Walker-Intermediate-School/\n",
      "Bad site detected: https://www.usnews.com/education/k12/texas/dr-david-c-walker-el-206298\n",
      "Bad site detected: https://www.publicschoolreview.com/dr-david-c-walker-elementary-school-profile\n",
      "Bad site detected: https://nces.ed.gov/ccd/schoolsearch/school_detail.asp?ID=480006211404\n",
      "Bad site detected: https://www.dnb.com/business-directory/company-profiles.school_of_excellence_in_education.8fde8b90005cb3de714dd31c0d8e98f4.html\n",
      "Bad site detected: https://www.schooldigger.com/go/TX/schools/0006211404/school.aspx\n",
      "Bad site detected: https://elementaryschools.org/directory/tx/cities/san-antonio/dr-david-c-walker-elementary/480006211404/\n",
      "Bad site detected: https://closelocation.com/find-school/dr-david-c-walker-elementary-school-school-in-basse-basse-16-11508-1216-80\n",
      "Bad site detected: http://castro.tea.state.tx.us/charter_apps/content/downloads/Renewals/015806_2.pdf\n",
      "Success! URL obtained by Google search with 11 bad URLs avoided.\n",
      "Quality URL: https://excellence-sa.org/walker/\n"
     ]
    }
   ],
   "source": [
    "# Your solution here\n",
    "\n",
    "# Collect search results\n",
    "urls = search(school_name + ' ' + school_address, \\\n",
    "              stop=20, pause=5.0, num=20) \n",
    "print(\"Successfully collected Google search results.\")\n",
    "\n",
    "# Initialize blacklist match counter: How many blacklisted domains has this search encountered?\n",
    "blacklisted_num = 0 \n",
    "\n",
    "# Loop through google search output to find first good result:\n",
    "for url in urls:\n",
    "    if any(bad_domain in url for bad_domain in blacklist):\n",
    "        print(f'Bad site detected: {url}') \n",
    "        blacklisted_num += 1 # Add one to blacklist match counter\n",
    "    else:\n",
    "        good_url = url\n",
    "        print(\"Success! URL obtained by Google search with \" + str(blacklisted_num) + \" bad URLs avoided.\")\n",
    "        break # Exit for loop after first good url is found\n",
    "        \n",
    "print(f'Quality URL: {url}')"
   ]
  },
  {
   "cell_type": "markdown",
   "metadata": {},
   "source": [
    "### Part 3"
   ]
  },
  {
   "cell_type": "code",
   "execution_count": 28,
   "metadata": {},
   "outputs": [
    {
     "name": "stdout",
     "output_type": "stream",
     "text": [
      "Collected batch of Google search results.\n",
      "Bad site detected: https://www.niche.com/k12/dr-david-c-walker-intermediate-school-san-antonio-tx/\n",
      "Bad site detected: https://www.har.com/school/015806106/dr-david-c-walker-elementary-school\n",
      "Bad site detected: https://www.greatschools.org/texas/san-antonio/12035-Dr-David-C-Walker-Intermediate-School/\n",
      "Bad site detected: https://www.usnews.com/education/k12/texas/dr-david-c-walker-el-206298\n",
      "Bad site detected: https://www.publicschoolreview.com/dr-david-c-walker-elementary-school-profile\n",
      "Bad site detected: https://nces.ed.gov/ccd/schoolsearch/school_detail.asp?ID=480006211404\n",
      "Bad site detected: https://www.dnb.com/business-directory/company-profiles.school_of_excellence_in_education.8fde8b90005cb3de714dd31c0d8e98f4.html\n",
      "Bad site detected: https://www.schooldigger.com/go/TX/schools/0006211404/school.aspx\n",
      "Bad site detected: https://elementaryschools.org/directory/tx/cities/san-antonio/dr-david-c-walker-elementary/480006211404/\n",
      "Bad site detected: https://closelocation.com/find-school/dr-david-c-walker-elementary-school-school-in-basse-basse-16-11508-1216-80\n",
      "Collected batch of Google search results.\n",
      "Bad site detected: http://castro.tea.state.tx.us/charter_apps/content/downloads/Renewals/015806_2.pdf\n",
      "Bad site detected: https://www.realtytrac.com/property/tx/san-antonio/78218/6500-n-interstate-35/209130397/\n",
      "Success! Collected 18 quality Google search results and avoided 12 third-party URLs.\n",
      "\n",
      "Quality URLs:\n",
      "https://excellence-sa.org/walker/\n",
      "https://www.homesnap.com/schools/TX/San_Antonio/Dr_David_C_Walker_Intermediate_School\n",
      "https://texas.hometownlocator.com/schools/profiles,n,dr%20david%20c%20walker%20el,z,78218,t,pb,i,1115128.cfm\n",
      "https://www.hisawyer.com/listings/schools/126444-dr-david-c-walker-elementary\n",
      "https://rehold.com/San+Antonio+TX/CASTLE+VW/6518\n",
      "https://www.diedinhouse.com/sitemap.aspx/234%20ashland%20dr%2C%20san%20antonio%2C%20tx\n",
      "https://www.sanantonio.gov/Portals/0/Files/health/News/RestaurantReports/RRAPRIL2017.xlsx?ver=2017-05-12-162100-603\n",
      "https://zerodown.com/explore/guide/texas/greater-san-antonio/bexar-county/san-antonio/78218/general-krueger\n",
      "http://plains.citysmart.info/place/219108611537382/Krueger-Middle-School-PTA\n",
      "https://homemetry.com/house/67+CRESTWAY+DR,+San+Antonio+TX\n",
      "http://www.trueschools.com/elementary-schools/texas/san-antonio/\n",
      "https://www.unitedstateszipcodes.org/78218/\n",
      "http://78218.us/\n",
      "http://squaremeals.org/Portals/8/files/H1N1/Coronavirus/MTY%20Application%20-%20SCHOOL%20DISTRICT%20NAME%20TEXAS%20-%20School%20List%20Attachment.xlsx\n",
      "https://notebook.community/jhaber-zz/Charter-school-identities/scripts/scraping_URLs\n",
      "https://www.vocabulary.com/schools/united-states/texas/UPWIhddieRhkUwuY/san-antonio/dr-david-c-walker-elementary-school/\n",
      "https://www.txcharterschools.org/wp-content/uploads/2019/02/SBOE_3.pdf\n",
      "https://www.rockethomes.com/homes/8414-cimarron-dr-san-antonio-tx-78218\n"
     ]
    }
   ],
   "source": [
    "# Your solution here\n",
    "\n",
    "# Define minimum number of quality results we want to see\n",
    "min_number_results = 10 \n",
    "\n",
    "# Initialize counter: How many blacklisted domains has this search encountered?\n",
    "blacklisted_num = 0 \n",
    "\n",
    "# Initialize URL lists: quality URLs and those that match blacklist\n",
    "good_urls = []\n",
    "bad_urls = []\n",
    "\n",
    "# Initialize where to start the search and total number seen\n",
    "start_num = 0\n",
    "batched_num = 0\n",
    "\n",
    "while len(good_urls) < min_number_results: # Get more results until we have 10 that are good quality\n",
    "    \n",
    "    start_num += batched_num # In case we need additional batches, start after \n",
    "    \n",
    "    # Get batch of search results\n",
    "    urls = search(school_name + ' ' + school_address, \\\n",
    "                  start = start_num, stop = start_num + min_number_results, pause=5.0)\n",
    "    print(\"Collected batch of Google search results.\")\n",
    "    \n",
    "    batched_num += min_number_results # Add to number batched\n",
    "    \n",
    "    # Loop through urls and add to quality URL list anything not matching a blacklisted domain\n",
    "    for url in urls:\n",
    "        if any(bad_domain in url for bad_domain in blacklist): # Check if any blacklisted domain is in this url\n",
    "            print(f'Bad site detected: {url}') \n",
    "            blacklisted_num += 1 # Add to counter\n",
    "        elif url not in good_urls: # Don't add duplicates\n",
    "            good_urls.append(url)\n",
    "        \n",
    "print(f'Success! Collected {str(len(good_urls))} quality Google search results and avoided {str(blacklisted_num)} third-party URLs.')\n",
    "print()\n",
    "\n",
    "# Print each quality URL\n",
    "print('Quality URLs:')\n",
    "for url in good_urls:\n",
    "    print(url)"
   ]
  }
 ],
 "metadata": {
  "kernelspec": {
   "display_name": "Python 3",
   "language": "python",
   "name": "python3"
  },
  "language_info": {
   "codemirror_mode": {
    "name": "ipython",
    "version": 3
   },
   "file_extension": ".py",
   "mimetype": "text/x-python",
   "name": "python",
   "nbconvert_exporter": "python",
   "pygments_lexer": "ipython3",
   "version": "3.8.5"
  }
 },
 "nbformat": 4,
 "nbformat_minor": 4
}

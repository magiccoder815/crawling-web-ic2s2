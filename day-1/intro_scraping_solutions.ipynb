{
 "cells": [
  {
   "cell_type": "markdown",
   "metadata": {},
   "source": [
    "# Introduction to web-scraping: Solutions\n",
    "\n",
    "\n",
    "## Outline\n",
    "\n",
    "* [Structured queries with APIs](#apis)\n",
    "    * [Google Fact Check API](#factapi)\n",
    "* [URL collection with automated Google search](#URLs)\n",
    "    * [Scraping school URLs](#school_URLs)\n",
    "    * [Scraping URLs using an exclusion list](#exclusionlist)\n",
    "* [Making `Requests`](#request)\n",
    "\n",
    "**__________________________________**\n"
   ]
  },
  {
   "cell_type": "markdown",
   "metadata": {},
   "source": [
    "# Structured queries with APIs<a id='apis'></a>"
   ]
  },
  {
   "cell_type": "markdown",
   "metadata": {},
   "source": [
    "## Google Fact Check API<a id='factapi'></a>"
   ]
  },
  {
   "cell_type": "code",
   "execution_count": 1,
   "metadata": {},
   "outputs": [],
   "source": [
    "# ONLY IF YOU HAVE API KEY: Get key from file\n",
    "api_key_fp = '../extra/api_key.txt'\n",
    "with open(api_key_fp) as keyfile:\n",
    "    key = keyfile.read().strip()\n",
    "    \n",
    "# Import package for making web requests\n",
    "import requests"
   ]
  },
  {
   "cell_type": "code",
   "execution_count": 2,
   "metadata": {},
   "outputs": [
    {
     "name": "stdout",
     "output_type": "stream",
     "text": [
      "{'claims': [{'text': '“Each job created in Biden’s ‘infrastructure plan’ will cost the American people $850,000.”', 'claimant': 'Republican National Committee', 'claimDate': '2021-04-20T00:00:00Z', 'claimReview': [{'publisher': {'name': 'The Washington Post', 'site': 'washingtonpost.com'}, 'url': 'https://www.washingtonpost.com/politics/2021/04/21/faulty-math-claim-that-bidens-infrastructure-plan-costs-850000-per-job/', 'title': \"Analysis | Faulty math: The claim that Biden's infrastructure plan ...\", 'textualRating': 'Three Pinocchios', 'languageCode': 'en'}]}, {'text': 'Infrastructure only comprises of roads and bridges.', 'claimant': 'Leader McConnell', 'claimDate': '2021-04-03T02:33:00Z', 'claimReview': [{'publisher': {'site': 'misbar.com'}, 'url': 'https://misbar.com/en/factcheck/2021/04/03/infrastructure-is-more-than-roads-and-bridges', 'title': 'Infrastructure is More than Roads and Bridges | Misbar', 'reviewDate': '2021-04-03T02:33:00Z', 'textualRating': 'Fake', 'languageCode': 'en'}]}, {'text': '“These figures are what you would consider regular appropriations-plus. So it’s baseline-plus.”', 'claimant': 'Shelley Moore Capito', 'claimDate': '2021-04-22T00:00:00Z', 'claimReview': [{'publisher': {'name': 'The Washington Post', 'site': 'washingtonpost.com'}, 'url': 'https://www.washingtonpost.com/politics/2021/04/26/apples-apples-senate-gop-infrastructure-proposal-is-smaller-than-it-appears/', 'title': 'Analysis | Apples to apples, the Senate GOP infrastructure proposal ...', 'textualRating': 'Correct', 'languageCode': 'en'}]}, {'text': 'Says Joe Biden’s infrastructure plan “is the Green New Deal.”', 'claimant': 'Citizens United', 'claimDate': '2021-03-31T00:00:00Z', 'claimReview': [{'publisher': {'name': 'PolitiFact', 'site': 'politifact.com'}, 'url': 'https://www.politifact.com/factchecks/2021/apr/02/citizens-united/citizens-united-calls-bidens-infrastructure-plan-g/', 'title': \"Citizens United calls Biden's infrastructure plan the Green New Deal ...\", 'textualRating': 'Mostly False', 'languageCode': 'en'}]}, {'text': 'There was no public infrastructure built during the Benigno “Noynoy” Aquino III administration.', 'claimReview': [{'publisher': {'name': 'Rappler', 'site': 'rappler.com'}, 'url': 'https://www.rappler.com/newsbreak/fact-check/no-infrastructure-built-under-noynoy-aquino', 'title': 'FALSE: No infrastructure built under Noynoy Aquino', 'reviewDate': '2021-03-30T06:19:28Z', 'textualRating': 'False', 'languageCode': 'en'}]}, {'text': '“Only about 6% of the president’s proposal actually goes\" to infrastructure, meaning \"water, wastewater ... highways, roads, bridges, perhaps broadband.”', 'claimant': 'John Thune', 'claimDate': '2021-04-11T00:00:00Z', 'claimReview': [{'publisher': {'name': 'FactCheck.org', 'site': 'factcheck.org'}, 'url': 'https://www.factcheck.org/2021/04/underselling-the-infrastructure-in-infrastructure-plan/', 'title': 'Underselling the Infrastructure in Infrastructure Plan', 'textualRating': '6% is too low', 'languageCode': 'en'}]}, {'text': '“The proposed tax increases in the Biden administration’s infrastructure plan could lead to 1 million fewer jobs in the first two years.”', 'claimant': 'Roy Blunt', 'claimDate': '2021-04-13T00:00:00Z', 'claimReview': [{'publisher': {'name': 'The Washington Post', 'site': 'washingtonpost.com'}, 'url': 'https://www.washingtonpost.com/politics/2021/04/14/pair-misleading-gop-attacks-bidens-infrastructure-plan/', 'title': \"Analysis | A pair of misleading GOP attacks on Biden's infrastructure ...\", 'reviewDate': '2021-04-14T12:49:17Z', 'textualRating': 'Mostly False', 'languageCode': 'en'}]}, {'text': '“This is a massive social welfare spending program combined with a massive tax increase on small-business job creators.”', 'claimant': 'Roger Wicker', 'claimDate': '2021-04-11T00:00:00Z', 'claimReview': [{'publisher': {'name': 'The Washington Post', 'site': 'washingtonpost.com'}, 'url': 'https://www.washingtonpost.com/politics/2021/04/14/pair-misleading-gop-attacks-bidens-infrastructure-plan/', 'title': \"Analysis | A pair of misleading GOP attacks on Biden's infrastructure ...\", 'reviewDate': '2021-04-14T12:49:17Z', 'textualRating': 'Three Pinocchios', 'languageCode': 'en'}]}, {'text': '“Something less than 6% ... of this proposal that President Biden has put forward is actually focused on infrastructure.”', 'claimant': 'Liz Cheney', 'claimDate': '2021-04-11T00:00:00Z', 'claimReview': [{'publisher': {'name': 'PolitiFact', 'site': 'politifact.com'}, 'url': 'https://www.politifact.com/factchecks/2021/apr/13/liz-cheney/liz-cheneys-dubious-claim-just-6-biden-plan-infras/', 'title': \"Liz Cheney's dubious claim that just 6% of Biden plan is ...\", 'textualRating': 'Pants on Fire', 'languageCode': 'en'}]}, {'text': 'President Joe Biden’s infrastructure proposal “is fully paid for. Across 15 years, it would raise all of the revenue needed for these once-in-a-lifetime investments.\"', 'claimant': 'Pete Buttigieg', 'claimDate': '2021-04-04T00:00:00Z', 'claimReview': [{'publisher': {'name': 'PolitiFact', 'site': 'politifact.com'}, 'url': 'https://www.politifact.com/factchecks/2021/apr/07/pete-buttigieg/joe-bidens-infrastructure-bill-fully-paid/', 'title': \"Is Joe Biden's infrastructure proposal fully paid for?\", 'textualRating': 'Mostly True', 'languageCode': 'en'}]}], 'nextPageToken': 'CAo'}\n"
     ]
    }
   ],
   "source": [
    "# Define what to search for in API\n",
    "query = 'infrastructure'\n",
    "\n",
    "# Set backend URL for requesting data from API\n",
    "search_url = \"https://factchecktools.googleapis.com/v1alpha1/claims:search\"\n",
    "\n",
    "# Make data request (first page of results only)\n",
    "response = requests.get(\n",
    "    url=search_url, \n",
    "    params=dict(\n",
    "        key=key, \n",
    "        languageCode='en-US', \n",
    "        query=query)).json()\n",
    "\n",
    "# Show the result\n",
    "print(response)"
   ]
  },
  {
   "cell_type": "markdown",
   "metadata": {},
   "source": [
    "Notice that the claim reviews in the query response sometimes include `claimDate` and `claimant`, but they _always_ include these keys: \n",
    "```\n",
    "text, claimReview[publisher[name, site], url, title, textualRating]\n",
    "```\n",
    "Where `text` is the claim (often wrong), `publisher` is the fact checking site (e.g., Snopes), and `textualRating` is the fact checker's evaluation of the claim (e.g., 'Mostly True', 'Pants on Fire', 'Two Pinocchios')."
   ]
  },
  {
   "cell_type": "markdown",
   "metadata": {},
   "source": [
    "## Challenge"
   ]
  },
  {
   "cell_type": "markdown",
   "metadata": {},
   "source": [
    "Show the `claimant`, `text`, `claimDate`, and `textualRating` features--_when available_--for first 10 claims in the API response. I've copied the raw response output below for you to play with.<br/>\n",
    "_Hint:_ `claimReview` is a list data type. How do you need to call the list to access the dictionary within it?"
   ]
  },
  {
   "cell_type": "code",
   "execution_count": 1,
   "metadata": {},
   "outputs": [],
   "source": [
    "response = {'claims': [{'text': '“Each job created in Biden’s ‘infrastructure plan’ will cost the American people $850,000.”', 'claimant': 'Republican National Committee', 'claimDate': '2021-04-20T00:00:00Z', 'claimReview': [{'publisher': {'name': 'The Washington Post', 'site': 'washingtonpost.com'}, 'url': 'https://www.washingtonpost.com/politics/2021/04/21/faulty-math-claim-that-bidens-infrastructure-plan-costs-850000-per-job/', 'title': \"Analysis | Faulty math: The claim that Biden's infrastructure plan ...\", 'textualRating': 'Three Pinocchios', 'languageCode': 'en'}]}, {'text': 'Infrastructure only comprises of roads and bridges.', 'claimant': 'Leader McConnell', 'claimDate': '2021-04-03T02:33:00Z', 'claimReview': [{'publisher': {'site': 'misbar.com'}, 'url': 'https://misbar.com/en/factcheck/2021/04/03/infrastructure-is-more-than-roads-and-bridges', 'title': 'Infrastructure is More than Roads and Bridges | Misbar', 'reviewDate': '2021-04-03T02:33:00Z', 'textualRating': 'Fake', 'languageCode': 'en'}]}, {'text': '“These figures are what you would consider regular appropriations-plus. So it’s baseline-plus.”', 'claimant': 'Shelley Moore Capito', 'claimDate': '2021-04-22T00:00:00Z', 'claimReview': [{'publisher': {'name': 'The Washington Post', 'site': 'washingtonpost.com'}, 'url': 'https://www.washingtonpost.com/politics/2021/04/26/apples-apples-senate-gop-infrastructure-proposal-is-smaller-than-it-appears/', 'title': 'Analysis | Apples to apples, the Senate GOP infrastructure proposal ...', 'textualRating': 'Correct', 'languageCode': 'en'}]}, {'text': 'Says Joe Biden’s infrastructure plan “is the Green New Deal.”', 'claimant': 'Citizens United', 'claimDate': '2021-03-31T00:00:00Z', 'claimReview': [{'publisher': {'name': 'PolitiFact', 'site': 'politifact.com'}, 'url': 'https://www.politifact.com/factchecks/2021/apr/02/citizens-united/citizens-united-calls-bidens-infrastructure-plan-g/', 'title': \"Citizens United calls Biden's infrastructure plan the Green New Deal ...\", 'textualRating': 'Mostly False', 'languageCode': 'en'}]}, {'text': 'There was no public infrastructure built during the Benigno “Noynoy” Aquino III administration.', 'claimReview': [{'publisher': {'name': 'Rappler', 'site': 'rappler.com'}, 'url': 'https://www.rappler.com/newsbreak/fact-check/no-infrastructure-built-under-noynoy-aquino', 'title': 'FALSE: No infrastructure built under Noynoy Aquino', 'reviewDate': '2021-03-30T06:19:28Z', 'textualRating': 'False', 'languageCode': 'en'}]}, {'text': '“Only about 6% of the president’s proposal actually goes\" to infrastructure, meaning \"water, wastewater ... highways, roads, bridges, perhaps broadband.”', 'claimant': 'John Thune', 'claimDate': '2021-04-11T00:00:00Z', 'claimReview': [{'publisher': {'name': 'FactCheck.org', 'site': 'factcheck.org'}, 'url': 'https://www.factcheck.org/2021/04/underselling-the-infrastructure-in-infrastructure-plan/', 'title': 'Underselling the Infrastructure in Infrastructure Plan', 'textualRating': '6% is too low', 'languageCode': 'en'}]}, {'text': '“The proposed tax increases in the Biden administration’s infrastructure plan could lead to 1 million fewer jobs in the first two years.”', 'claimant': 'Roy Blunt', 'claimDate': '2021-04-13T00:00:00Z', 'claimReview': [{'publisher': {'name': 'The Washington Post', 'site': 'washingtonpost.com'}, 'url': 'https://www.washingtonpost.com/politics/2021/04/14/pair-misleading-gop-attacks-bidens-infrastructure-plan/', 'title': \"Analysis | A pair of misleading GOP attacks on Biden's infrastructure ...\", 'reviewDate': '2021-04-14T12:49:17Z', 'textualRating': 'Mostly False', 'languageCode': 'en'}]}, {'text': '“This is a massive social welfare spending program combined with a massive tax increase on small-business job creators.”', 'claimant': 'Roger Wicker', 'claimDate': '2021-04-11T00:00:00Z', 'claimReview': [{'publisher': {'name': 'The Washington Post', 'site': 'washingtonpost.com'}, 'url': 'https://www.washingtonpost.com/politics/2021/04/14/pair-misleading-gop-attacks-bidens-infrastructure-plan/', 'title': \"Analysis | A pair of misleading GOP attacks on Biden's infrastructure ...\", 'reviewDate': '2021-04-14T12:49:17Z', 'textualRating': 'Three Pinocchios', 'languageCode': 'en'}]}, {'text': '“Something less than 6% ... of this proposal that President Biden has put forward is actually focused on infrastructure.”', 'claimant': 'Liz Cheney', 'claimDate': '2021-04-11T00:00:00Z', 'claimReview': [{'publisher': {'name': 'PolitiFact', 'site': 'politifact.com'}, 'url': 'https://www.politifact.com/factchecks/2021/apr/13/liz-cheney/liz-cheneys-dubious-claim-just-6-biden-plan-infras/', 'title': \"Liz Cheney's dubious claim that just 6% of Biden plan is ...\", 'textualRating': 'Pants on Fire', 'languageCode': 'en'}]}, {'text': 'President Joe Biden’s infrastructure proposal “is fully paid for. Across 15 years, it would raise all of the revenue needed for these once-in-a-lifetime investments.\"', 'claimant': 'Pete Buttigieg', 'claimDate': '2021-04-04T00:00:00Z', 'claimReview': [{'publisher': {'name': 'PolitiFact', 'site': 'politifact.com'}, 'url': 'https://www.politifact.com/factchecks/2021/apr/07/pete-buttigieg/joe-bidens-infrastructure-bill-fully-paid/', 'title': \"Is Joe Biden's infrastructure proposal fully paid for?\", 'textualRating': 'Mostly True', 'languageCode': 'en'}]}], 'nextPageToken': 'CAo'}"
   ]
  },
  {
   "cell_type": "code",
   "execution_count": 2,
   "metadata": {},
   "outputs": [
    {
     "name": "stdout",
     "output_type": "stream",
     "text": [
      "Claim by Republican National Committee on 2021-04-20T00:00:00Z, rated Three Pinocchios: \n",
      "“Each job created in Biden’s ‘infrastructure plan’ will cost the American people $850,000.”\n",
      "\n",
      "Claim by Leader McConnell on 2021-04-03T02:33:00Z, rated Fake: \n",
      "Infrastructure only comprises of roads and bridges.\n",
      "\n",
      "Claim by Shelley Moore Capito on 2021-04-22T00:00:00Z, rated Correct: \n",
      "“These figures are what you would consider regular appropriations-plus. So it’s baseline-plus.”\n",
      "\n",
      "Claim by Citizens United on 2021-03-31T00:00:00Z, rated Mostly False: \n",
      "Says Joe Biden’s infrastructure plan “is the Green New Deal.”\n",
      "\n",
      "Claim rated False: \n",
      "There was no public infrastructure built during the Benigno “Noynoy” Aquino III administration.\n",
      "\n",
      "Claim by John Thune on 2021-04-11T00:00:00Z, rated 6% is too low: \n",
      "“Only about 6% of the president’s proposal actually goes\" to infrastructure, meaning \"water, wastewater ... highways, roads, bridges, perhaps broadband.”\n",
      "\n",
      "Claim by Roy Blunt on 2021-04-13T00:00:00Z, rated Mostly False: \n",
      "“The proposed tax increases in the Biden administration’s infrastructure plan could lead to 1 million fewer jobs in the first two years.”\n",
      "\n",
      "Claim by Roger Wicker on 2021-04-11T00:00:00Z, rated Three Pinocchios: \n",
      "“This is a massive social welfare spending program combined with a massive tax increase on small-business job creators.”\n",
      "\n",
      "Claim by Liz Cheney on 2021-04-11T00:00:00Z, rated Pants on Fire: \n",
      "“Something less than 6% ... of this proposal that President Biden has put forward is actually focused on infrastructure.”\n",
      "\n",
      "Claim by Pete Buttigieg on 2021-04-04T00:00:00Z, rated Mostly True: \n",
      "President Joe Biden’s infrastructure proposal “is fully paid for. Across 15 years, it would raise all of the revenue needed for these once-in-a-lifetime investments.\"\n",
      "\n"
     ]
    }
   ],
   "source": [
    "# Solution\n",
    "\n",
    "for claim in response['claims'][:10]:\n",
    "    if 'claimant' in claim and 'claimDate' in claim:\n",
    "        print(f\"Claim by {claim['claimant']} on {claim['claimDate']}, rated {claim['claimReview'][0]['textualRating']}: \\n{claim['text']}\")\n",
    "    else:\n",
    "        print(f\"Claim rated {claim['claimReview'][0]['textualRating']}: \\n{claim['text']}\")\n",
    "    print()"
   ]
  },
  {
   "cell_type": "markdown",
   "metadata": {},
   "source": [
    "# URL collection with automated Google search<a id='URLs'></a>"
   ]
  },
  {
   "cell_type": "markdown",
   "metadata": {},
   "source": [
    "## Scraping school URLs<a id='school_URLs'></a>"
   ]
  },
  {
   "cell_type": "code",
   "execution_count": 3,
   "metadata": {},
   "outputs": [
    {
     "name": "stdout",
     "output_type": "stream",
     "text": [
      "https://www.ccpcs.org/\n",
      "https://www.ccpcs.org/about/our-staff\n",
      "https://www.ccpcs.org/about/our-staff/join-our-team\n",
      "https://www.ccpcs.org/current-families/calendar\n",
      "https://www.ccpcs.org/about/our-staff/high-school\n",
      "https://www.facebook.com/CapitalCityPCS/\n",
      "https://www.myschooldc.org/schools/profile/143\n",
      "https://www.niche.com/k12/capital-city-public-charter-school-washington-dc/\n",
      "https://nces.ed.gov/ccd/districtsearch/district_detail.asp?Search=1&State=11&details=5&ID2=1100035\n",
      "https://www.usnews.com/education/k12/district-of-columbia/capital-city-pcs-lower-school-226373\n"
     ]
    }
   ],
   "source": [
    "# Import automated Google search package\n",
    "from googlesearch import search\n",
    "\n",
    "# Define metadata for a single entity: a DC charter school\n",
    "school_name = 'Capital City Public Charter School'\n",
    "school_address = '100 Peabody Street NW, Washington, DC 20011'\n",
    "\n",
    "# Search for first 10 Google results using joined metadata, show each one\n",
    "for url in search(school_name + ' ' + school_address, \\\n",
    "                  stop=10, pause=5.0):\n",
    "    print(url)"
   ]
  },
  {
   "cell_type": "markdown",
   "metadata": {},
   "source": [
    "### Challenge"
   ]
  },
  {
   "cell_type": "markdown",
   "metadata": {},
   "source": [
    "Collect the first 10 results from Google for Dr. David C. Walker Intermediate School located at 6500 Ih 35 N Ste C, San Antonio, TX 78218. What do you notice about the results? How do they compare to the previous set of results?"
   ]
  },
  {
   "cell_type": "code",
   "execution_count": 4,
   "metadata": {},
   "outputs": [
    {
     "name": "stdout",
     "output_type": "stream",
     "text": [
      "https://www.niche.com/k12/dr-david-c-walker-intermediate-school-san-antonio-tx/\n",
      "https://www.mapquest.com/us/texas/dr-david-c-walker-intermediate-school-438581037\n",
      "https://www.usnews.com/education/k12/texas/dr-david-c-walker-elementary-206298\n",
      "https://www.greatschools.org/texas/san-antonio/12035-Dr-David-C-Walker-Intermediate-School/\n",
      "https://yellow.place/en/dr-david-c-walker-int-san-antonio-tx-usa\n",
      "https://elementaryschools.org/directory/tx/cities/san-antonio/dr-david-c-walker-elementary/480006211404/\n",
      "https://www.publicschoolreview.com/dr-david-c-walker-elementary-school-profile\n",
      "https://www.schoolsnearme.net/en/public/dr-david-c-walker-elementary/79869\n",
      "https://closelocation.com/find-school/dr-david-c-walker-elementary-school-school-in-basse-basse-16-11508-1216-80\n",
      "https://www.homefacts.com/schools/Texas/Bexar-County/San-Antonio/Dr-David-C-Walker-El.html\n"
     ]
    }
   ],
   "source": [
    "# Solution\n",
    "\n",
    "# Define metadata\n",
    "school_name = 'Dr. David C. Walker Intermediate School'\n",
    "school_address = '6500 Ih 35 N Ste C, San Antonio, TX 78218'\n",
    "\n",
    "# Automated search\n",
    "for url in search(school_name + ' ' + school_address, \\\n",
    "                  stop=10, pause=5.0):\n",
    "    print(url)"
   ]
  },
  {
   "cell_type": "markdown",
   "metadata": {},
   "source": [
    "These results are much less clear and organized: Each one points to a different site, and all of them are third parties. Why would this be the case? "
   ]
  },
  {
   "cell_type": "markdown",
   "metadata": {},
   "source": [
    "## Scraping URLs using an exclusion list<a id='exclusionlist'></a>"
   ]
  },
  {
   "cell_type": "code",
   "execution_count": 5,
   "metadata": {
    "scrolled": false
   },
   "outputs": [
    {
     "name": "stdout",
     "output_type": "stream",
     "text": [
      "Successfully collected Google search results.\n",
      "Bad site detected: https://www.niche.com/k12/dr-david-c-walker-intermediate-school-san-antonio-tx/\n",
      "Success! URL obtained by Google search with 1 bad URLs avoided.\n",
      "Quality URL: https://www.mapquest.com/us/texas/dr-david-c-walker-intermediate-school-438581037\n"
     ]
    }
   ],
   "source": [
    "# Initial version of code\n",
    "\n",
    "# Define excluded domains to filter out: third-party domains/false positives that we DON'T want to scrape \n",
    "exclusions = ['facebook.com', 'greatschools.org', 'niche.com', 'har.com', 'usnews.com', 'publicschoolreview.com', \n",
    "             'nces.ed.gov', 'dnb.com', 'schooldigger.com', 'elementaryschools.org', 'closelocation.com']\n",
    "\n",
    "# Define search metadata\n",
    "school_name = 'Dr. David C. Walker Intermediate School'\n",
    "school_address = '6500 Ih 35 N Ste C, San Antonio, TX 78218'\n",
    "#school_name = \"River City Scholars Charter Academy\"\n",
    "#school_address = \"944 Evergreen Street, Grand Rapids, MI 49507\"\n",
    "\n",
    "# Collect search results\n",
    "urls = search(school_name + ' ' + school_address, \\\n",
    "              stop=20, pause=5.0) # Expand search range to help avoid excluded domains\n",
    "print(\"Successfully collected Google search results.\")\n",
    "\n",
    "# Initialize exclusions match counter: How many excluded domains has this search encountered?\n",
    "excluded_num = 0 \n",
    "\n",
    "# Loop through google search output to find first good result:\n",
    "for url in urls:\n",
    "    if any(domain in url for domain in exclusions):\n",
    "        print(f'Bad site detected: {url}') \n",
    "        excluded_num += 1 # Add one to exclusions match counter\n",
    "    else:\n",
    "        good_url = url\n",
    "        print(\"Success! URL obtained by Google search with \" + str(excluded_num) + \" bad URLs avoided.\")\n",
    "        break # Exit for loop after first good url is found\n",
    "        \n",
    "print(f'Quality URL: {good_url}')"
   ]
  },
  {
   "cell_type": "markdown",
   "metadata": {},
   "source": [
    "What do you think of [the \"quality\" URL we landed on](https://yellow.place/en/dr-david-c-walker-int-san-antonio-tx-usa)? What does this mean about our exclusion list?\n",
    "\n",
    "### Challenge\n",
    "\n",
    "Improve our automated searching to try to get the genuine URL of Dr. David C. Walker Intermediate School. <br/>\n",
    "_Hint_: You could try (A) adding more URLs to the exclusions list OR (B) try a simple search but for more URLs."
   ]
  },
  {
   "cell_type": "code",
   "execution_count": 6,
   "metadata": {},
   "outputs": [
    {
     "name": "stdout",
     "output_type": "stream",
     "text": [
      "Successfully collected Google search results.\n",
      "Bad site detected: https://www.niche.com/k12/dr-david-c-walker-intermediate-school-san-antonio-tx/\n",
      "Bad site detected: https://www.mapquest.com/us/texas/dr-david-c-walker-intermediate-school-438581037\n",
      "Bad site detected: https://www.usnews.com/education/k12/texas/dr-david-c-walker-elementary-206298\n",
      "Bad site detected: https://www.greatschools.org/texas/san-antonio/12035-Dr-David-C-Walker-Intermediate-School/\n",
      "Bad site detected: https://yellow.place/en/dr-david-c-walker-int-san-antonio-tx-usa\n",
      "Bad site detected: https://elementaryschools.org/directory/tx/cities/san-antonio/dr-david-c-walker-elementary/480006211404/\n",
      "Bad site detected: https://www.publicschoolreview.com/dr-david-c-walker-elementary-school-profile\n",
      "Bad site detected: https://www.schoolsnearme.net/en/public/dr-david-c-walker-elementary/79869\n",
      "Bad site detected: https://closelocation.com/find-school/dr-david-c-walker-elementary-school-school-in-basse-basse-16-11508-1216-80\n",
      "Bad site detected: https://www.homefacts.com/schools/Texas/Bexar-County/San-Antonio/Dr-David-C-Walker-El.html\n",
      "Success! URL obtained by Google search with 10 bad URLs avoided.\n",
      "Quality URL: https://www.donorschoose.org/schools/texas/school-of-excellence-in-education/dr-david-walker-elementary-school/95612\n"
     ]
    }
   ],
   "source": [
    "# Solution\n",
    "\n",
    "# Option A: Define expanded exclusions\n",
    "exclusions = ['facebook.com', 'greatschools.org', 'niche.com', 'har.com', 'usnews.com', 'publicschoolreview.com', \n",
    "              'nces.ed.gov', 'dnb.com', 'schooldigger.com', 'elementaryschools.org', 'closelocation.com', \n",
    "              'castro.tea.state.tx.us', 'yellow.place', 'trueschools.com', 'mapquest.com', 'schoolsnearme.net', \n",
    "              'homefacts.com']\n",
    "\n",
    "# Collect search results\n",
    "urls = search(school_name + ' ' + school_address, \\\n",
    "              stop=20, pause=5.0) # Expand search range to help avoid exclusionsed domains\n",
    "print(\"Successfully collected Google search results.\")\n",
    "\n",
    "# Initialize exclusions match counter\n",
    "excluded_num = 0 \n",
    "\n",
    "# Get first good search result:\n",
    "for url in urls:\n",
    "    if any(domain in url for domain in exclusions):\n",
    "        print(f'Bad site detected: {url}') \n",
    "        excluded_num += 1 # Add one to exclusions match counter\n",
    "    else:\n",
    "        good_url = url\n",
    "        print(\"Success! URL obtained by Google search with \" + str(excluded_num) + \" bad URLs avoided.\")\n",
    "        break # Exit for loop after first good url is found\n",
    "        \n",
    "print(f'Quality URL: {good_url}')"
   ]
  },
  {
   "cell_type": "code",
   "execution_count": 7,
   "metadata": {
    "scrolled": true
   },
   "outputs": [
    {
     "name": "stdout",
     "output_type": "stream",
     "text": [
      "https://www.niche.com/k12/dr-david-c-walker-intermediate-school-san-antonio-tx/\n",
      "https://www.mapquest.com/us/texas/dr-david-c-walker-intermediate-school-438581037\n",
      "https://www.usnews.com/education/k12/texas/dr-david-c-walker-elementary-206298\n",
      "https://www.greatschools.org/texas/san-antonio/12035-Dr-David-C-Walker-Intermediate-School/\n",
      "https://yellow.place/en/dr-david-c-walker-int-san-antonio-tx-usa\n",
      "https://elementaryschools.org/directory/tx/cities/san-antonio/dr-david-c-walker-elementary/480006211404/\n",
      "https://www.publicschoolreview.com/dr-david-c-walker-elementary-school-profile\n",
      "https://www.schoolsnearme.net/en/public/dr-david-c-walker-elementary/79869\n",
      "https://closelocation.com/find-school/dr-david-c-walker-elementary-school-school-in-basse-basse-16-11508-1216-80\n",
      "https://www.homefacts.com/schools/Texas/Bexar-County/San-Antonio/Dr-David-C-Walker-El.html\n",
      "https://www.donorschoose.org/schools/texas/school-of-excellence-in-education/dr-david-walker-elementary-school/95612\n",
      "https://texas.hometownlocator.com/schools/profiles,n,dr%20david%20c%20walker%20elementary,z,78218,t,pb,i,1115128.cfm\n",
      "https://wheretoteach.com/dr-david-c-walker-elementary-22789\n",
      "http://www.localschooldirectory.com/public-school/345352660/TX\n",
      "https://texas.legacytraditional.org/walker/\n",
      "http://www.loresult.com/us-zip-codes/united-states-texas-tx-78218/\n",
      "https://www.rockethomes.com/homes/5267-prince-valiant-san-antonio-tx-78218\n",
      "https://rehold.com/San+Antonio+TX/GOLFCREST+DR/602\n",
      "https://magnetschools.us/county/bexar_tx\n",
      "https://nces.ed.gov/globallocator/index.asp?search=1&State=TX&city=San+Antonio&zipcode=78201&School=1&PrivSchool=1&miles=15\n"
     ]
    }
   ],
   "source": [
    "# Option B: Expanded simple search\n",
    "for url in search(school_name + ' ' + school_address, \\\n",
    "                  stop=20, pause=5.0, num=20): # Get first 20 results: stop at 20, and get 20 in first page of results\n",
    "    print(url)"
   ]
  },
  {
   "cell_type": "markdown",
   "metadata": {},
   "source": [
    "As it turns out, David C. Walker Intermediate School closed recently; that's why Google doesn't find what used to be its [official website](https://excellence-sa.org/walker/) (though you could probably find this on the Internet Archive's Wayback Machine). How could we avoid such blocks in the future? You could use your expanded exclusion list and if no quality URL appears in the first 10 results, consider the school closed. How else could you do this?"
   ]
  },
  {
   "cell_type": "markdown",
   "metadata": {},
   "source": [
    "## Making `Requests` <a id='request'></a>\n",
    "\n",
    "### Challenge\n",
    "\n",
    "Get the HTML for [this claim review by fact checking site PolitiFact](https://www.politifact.com/factchecks/2021/apr/02/citizens-united/citizens-united-calls-bidens-infrastructure-plan-g/). \n",
    "Print out the first 1000 characters and compare it to the HTML you see when you view the source HTML in your browser."
   ]
  },
  {
   "cell_type": "code",
   "execution_count": 8,
   "metadata": {},
   "outputs": [
    {
     "data": {
      "text/plain": [
       "'\\n<!DOCTYPE html>\\n<html lang=\"en-US\" dir=\"ltr\">\\n<head>\\n<meta charset=\"utf-8\">\\n<meta http-equiv=\"x-ua-compatible\" content=\"ie=edge\">\\n<meta name=\"viewport\" content=\"width=device-width, initial-scale=1\">\\n<title>PolitiFact | Citizens United calls Biden’s infrastructure plan the Green New Deal. It isn’t.</title>\\n<meta name=\"description\" content=\"Republican opposition to President Joe Biden’s infrastructure proposal has been swift and vocal. Senate Minority Leader \" />\\n<meta property=\"og:url\" content=\"https://www.politifact.com/factchecks/2021/apr/02/citizens-united/citizens-united-calls-bidens-infrastructure-plan-g/\" />\\n<meta property=\"og:image\" content=\"https://static.politifact.com/politifact/rulings/meter-mostly-false.jpg\" />\\n<meta property=\"og:image:secure_url\" content=\"https://static.politifact.com/politifact/rulings/meter-mostly-false.jpg\" />\\n<meta property=\"og:title\" content=\"PolitiFact - Citizens United calls Biden’s infrastructure plan the Green New Deal. It isn’t.\" />\\n<meta propert'"
      ]
     },
     "execution_count": 8,
     "metadata": {},
     "output_type": "execute_result"
    }
   ],
   "source": [
    "# solution\n",
    "import requests \n",
    "\n",
    "url = 'https://www.politifact.com/factchecks/2021/apr/02/citizens-united/citizens-united-calls-bidens-infrastructure-plan-g/'\n",
    "response = requests.get(url)\n",
    "html = response.text\n",
    "\n",
    "html[:1000]"
   ]
  }
 ],
 "metadata": {
  "anaconda-cloud": {},
  "kernelspec": {
   "display_name": "Python 3 (ipykernel)",
   "language": "python",
   "name": "python3"
  },
  "language_info": {
   "codemirror_mode": {
    "name": "ipython",
    "version": 3
   },
   "file_extension": ".py",
   "mimetype": "text/x-python",
   "name": "python",
   "nbconvert_exporter": "python",
   "pygments_lexer": "ipython3",
   "version": "3.10.5"
  }
 },
 "nbformat": 4,
 "nbformat_minor": 1
}

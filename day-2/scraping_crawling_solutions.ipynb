{
 "cells": [
  {
   "cell_type": "markdown",
   "metadata": {},
   "source": [
    "# Scraping and crawling the web\n",
    "\n",
    "\n",
    "## Outline\n",
    "\n",
    "* [Parsing HTML](#parsing)\n",
    "    * [Pretty parsing with `BeautifulSoup`](#BS)\n",
    "    * [Getting human-readable text](#readable)\n",
    "* [Crawling broadly with `Scrapy`](#scrapy)\n",
    "    * [A simple (narrow) spider](#simple)\n",
    "    * [Link extraction in a (broad) spider](#linkextraction)\n",
    "\n",
    "**__________________________________**"
   ]
  },
  {
   "cell_type": "markdown",
   "metadata": {},
   "source": [
    "# Narrow crawling/scraping <a id='narrow'> </a>"
   ]
  },
  {
   "cell_type": "markdown",
   "metadata": {},
   "source": [
    "## Making `Requests` <a id='request'></a>"
   ]
  },
  {
   "cell_type": "markdown",
   "metadata": {},
   "source": [
    "### Challenge\n",
    "\n",
    "Get the HTML for [this claim review by fact checking site PolitiFact](https://www.politifact.com/factchecks/2021/apr/02/citizens-united/citizens-united-calls-bidens-infrastructure-plan-g/). \n",
    "Print out the first 1000 characters and compare it to the HTML you see when you view the source HTML in your browser."
   ]
  },
  {
   "cell_type": "code",
   "execution_count": 1,
   "metadata": {},
   "outputs": [
    {
     "data": {
      "text/plain": [
       "'\\n<!DOCTYPE html>\\n<html lang=\"en-US\" dir=\"ltr\">\\n<head>\\n<meta charset=\"utf-8\">\\n<meta http-equiv=\"x-ua-compatible\" content=\"ie=edge\">\\n<meta name=\"viewport\" content=\"width=device-width, initial-scale=1\">\\n<title>PolitiFact | Citizens United calls Biden’s infrastructure plan the Green New Deal. It isn’t.</title>\\n<meta name=\"description\" content=\"Republican opposition to President Joe Biden’s infrastructure proposal has been swift and vocal. Senate Minority Leader \" />\\n<meta property=\"og:url\" content=\"https://www.politifact.com/factchecks/2021/apr/02/citizens-united/citizens-united-calls-bidens-infrastructure-plan-g/\" />\\n<meta property=\"og:image\" content=\"https://static.politifact.com/politifact/rulings/meter-mostly-false.jpg\" />\\n<meta property=\"og:image:secure_url\" content=\"https://static.politifact.com/politifact/rulings/meter-mostly-false.jpg\" />\\n<meta property=\"og:title\" content=\"PolitiFact - Citizens United calls Biden’s infrastructure plan the Green New Deal. It isn’t.\" />\\n<meta propert'"
      ]
     },
     "execution_count": 1,
     "metadata": {},
     "output_type": "execute_result"
    }
   ],
   "source": [
    "# solution\n",
    "import requests \n",
    "\n",
    "url = 'https://www.politifact.com/factchecks/2021/apr/02/citizens-united/citizens-united-calls-bidens-infrastructure-plan-g/'\n",
    "response = requests.get(url)\n",
    "html = response.text\n",
    "\n",
    "html[:1000]"
   ]
  },
  {
   "cell_type": "markdown",
   "metadata": {},
   "source": [
    "# Parsing HTML <a id='parsing'></a>"
   ]
  },
  {
   "cell_type": "markdown",
   "metadata": {},
   "source": [
    "## Pretty parsing with `BeautifulSoup` <a id='BS'></a>"
   ]
  },
  {
   "cell_type": "markdown",
   "metadata": {},
   "source": [
    "### Challenge\n",
    "\n",
    "Find all the links in the above claim review page using the `<a>` tags and their `href` elements. Print every 10th link. What do you notice about where these links point?"
   ]
  },
  {
   "cell_type": "code",
   "execution_count": 2,
   "metadata": {},
   "outputs": [
    {
     "name": "stdout",
     "output_type": "stream",
     "text": [
      "/\n",
      "/pennsylvania/\n",
      "/health-check/\n",
      "/personalities/kamala-harris/\n",
      "/personalities/rush-limbaugh/\n",
      "/truth-o-meter/promises/trumpometer/?ruling=true\n",
      "https://twitter.com/Politifact/\n",
      "/staff/jon-greenberg/\n",
      "https://www.congress.gov/bill/116th-congress/house-resolution/109\n",
      "https://twitter.com/Citizens_United/status/1377308915227107336\n",
      "#\n",
      "#\n",
      "#\n",
      "/personalities/joe-biden/\n",
      "/personalities/facebook-posts/\n",
      "/factchecks/list/\n",
      "/personalities/nancy-pelosi/\n",
      "/texas/\n",
      "/corrections-and-updates/\n",
      "https://twitter.com/share?text=PolitiFact - Citizens United calls Biden’s infrastructure plan the Green New Deal. It isn’t.&url=https://www.politifact.com/factchecks/2021/apr/02/citizens-united/citizens-united-calls-bidens-infrastructure-plan-g/\n"
     ]
    }
   ],
   "source": [
    "# Import BeautifulSoup for parsing\n",
    "from bs4 import BeautifulSoup\n",
    "\n",
    "url = 'https://www.politifact.com/factchecks/2021/apr/02/citizens-united/citizens-united-calls-bidens-infrastructure-plan-g/'\n",
    "html = requests.get(url)\n",
    "soup = BeautifulSoup(html.text)\n",
    "\n",
    "# solution\n",
    "for link in soup.find_all('a')[::10]: # every 10th element\n",
    "    print(link.get('href'))"
   ]
  },
  {
   "cell_type": "markdown",
   "metadata": {},
   "source": [
    "We see lots of relative links (e.g., `/pennsylvania/`), places where the `href` seems to point nowhere (e.g., `#`), and communication shortcuts (e.g., `https://twitter.com/share?text=PolitiFact - Citizens United calls...`). This could be cleaned up by appending relative links to the domain name (`https://www.politifact.com/`) and keeping only URLs (and nothing after)."
   ]
  },
  {
   "cell_type": "markdown",
   "metadata": {},
   "source": [
    "## Getting human-readable text <a id='readable'></a>"
   ]
  },
  {
   "cell_type": "markdown",
   "metadata": {},
   "source": [
    "Not all websites use the `<p>` tag to indicate the important, human-readable text. Sometimes we need to approach HTML parsing from the other end: By finding and removing all non-informative tags. Let's use `BeautifulSoup` to build such a method. "
   ]
  },
  {
   "cell_type": "markdown",
   "metadata": {},
   "source": [
    "### Challenge\n",
    "\n",
    "Use `decompose()` to remove from the soup all tags showing anything other than human-readable text. Below is a list of such junk tags to use as a blacklist. \n",
    "\n",
    "```\n",
    "\"b\", \"big\", \"i\", \"small\", \"tt\", \"abbr\", \"acronym\", \"cite\", \"dfn\", \"kbd\", \n",
    "\"samp\", \"var\", \"bdo\", \"map\", \"object\", \"q\", \"span\", \"sub\", \"sup\", \"head\", \n",
    "\"title\", \"[document]\", \"script\", \"style\", \"meta\", \"noscript\"\n",
    "```"
   ]
  },
  {
   "cell_type": "code",
   "execution_count": 3,
   "metadata": {},
   "outputs": [
    {
     "name": "stdout",
     "output_type": "stream",
     "text": [
      " March 31, 2021 in a tweet:Says Joe Biden’s infrastructure plan “is the Green New Deal.”The White House infrastructure plan has $111 billion to improve water and sewer systems. (Shutterstock)ByJon GreenbergCitizens United calls Biden’s infrastructure plan the Green New Deal. It isn’t.If Your Time is shortThe White House infrastructure plan would cost about $2.3 trillion. A Green New Deal-type plan would cost $9.5 trillion.The Green New Deal included broader social economic goals, such as a guaranteed livable wage, affordable higher education and universal health care.See the sources for this fact-checkRepublican opposition to President Joe Biden’s infrastructure proposal has been swift and vocal.Senate Minority Leader Mitch McConnell said that as written, the $2.3 trillion American Jobs Plan released March 31 was a nonstarter. The conservative PAC Citizens United put Biden’s plan in the same boat as theGreen New Deal, a sweeping environmental and social justice agenda that Republicans have condemned.\"Does this sound like an infrastructure bill to you?\" the grouptweeted March 31, with a link to aNew York Timesarticle about the proposal. \"It's not. It's the Green New Deal. \"Does this sound like an infrastructure bill to you? It's not. It's the Green New Deal.\"It is the first step in a two-part agenda to overhaul American capitalism, fight climate change and attempt to improve the productivity of the economy.\"https://t.co/ajIoRCttgl— Citizens United (@Citizens_United)March 31, 2021The Times article described Biden’s plan as the first step in a legislative package that aimed to boost productivity, fight climate change and \"overhaul American capitalism.\"During the presidential campaign,Biden said he does not supportthe Green New Deal. His current proposal is a blend of money for traditional brick-and-mortar infrastructure — roads, water supplies, broadband, etc. — clean energy and improved manufacturing, and social service infrastructure, meaning caregivers for seniors a\n"
     ]
    }
   ],
   "source": [
    "# solution\n",
    "\n",
    "# Define inline tags for cleaning out HTML\n",
    "tags_blacklist = [\"b\", \"big\", \"i\", \"small\", \"tt\", \"abbr\", \"acronym\", \"cite\", \"dfn\", \"kbd\", \n",
    "                  \"samp\", \"var\", \"bdo\", \"map\", \"object\", \"q\", \"span\", \"sub\", \"sup\", \"head\", \n",
    "                  \"title\", \"[document]\", \"script\", \"style\", \"meta\", \"noscript\"]\n",
    "\n",
    "# Get HTML and then soup\n",
    "url = 'https://www.politifact.com/factchecks/2021/apr/02/citizens-united/citizens-united-calls-bidens-infrastructure-plan-g/'\n",
    "html = requests.get(url)\n",
    "soup = BeautifulSoup(html.text)\n",
    "\n",
    "# Remove non-visible tags from soup with two for-loops:\n",
    "for tag in tags_blacklist:\n",
    "    for elem in soup(tag):\n",
    "        elem.decompose()\n",
    "        \n",
    "# Show result\n",
    "visible = soup.get_text(strip=True)\n",
    "print(visible[1000:3000])"
   ]
  },
  {
   "cell_type": "markdown",
   "metadata": {},
   "source": [
    "You might have noticed that word boundaries get clobbered when you call `get_text()`. This is because the default setting for this method is `strip=True`, which tells `BeautifulSoup` to strip whitespaces (of any kind) from the beginning and end of each bit of text. Using `strip=False` leads to lots of extra whitespaces--usually, newlines--which requires some regular expressions to clean up."
   ]
  },
  {
   "cell_type": "markdown",
   "metadata": {},
   "source": [
    "### Challenge\n",
    "\n",
    "Using the above tags blacklist and `decompose()` as before, this time use the `strip=False` parameter when calling `get_text()` to avoid combining words across whitespace boundaries. Instead, use regular expressions to clean up extra whitespaces."
   ]
  },
  {
   "cell_type": "code",
   "execution_count": 4,
   "metadata": {},
   "outputs": [
    {
     "name": "stdout",
     "output_type": "stream",
     "text": [
      "\n",
      "Donate\n",
      "State Editions\n",
      "California\n",
      "Florida\n",
      "Illinois\n",
      "Iowa\n",
      "Missouri\n",
      "New York\n",
      "North Carolina\n",
      "Pennsylvania\n",
      "Texas\n",
      "Virginia\n",
      "West Virginia\n",
      "Vermont\n",
      "Wisconsin\n",
      "Michigan\n",
      "Issues\n",
      "All Issues\n",
      "Online hoaxes\n",
      "Coronavirus\n",
      "Health Care\n",
      "Immigration\n",
      "Taxes\n",
      "Marijuana\n",
      "Environment\n",
      "Crime\n",
      "Guns\n",
      "Foreign Policy\n",
      "People\n",
      "All People\n",
      "Joe Biden\n",
      "Kamala Harris\n",
      "Charles Schumer\n",
      "Mitch McConnell\n",
      "Bernie Sanders\n",
      "Nancy Pelosi\n",
      "Donald Trump\n",
      "Media\n",
      "PunditFact\n",
      "Tucker Carlson\n",
      "Sean Hannity\n",
      "Rachel Maddow\n",
      "Rush Limbaugh\n",
      "Bloggers\n",
      "Campaigns\n",
      "2020 Elections\n",
      "Truth-o-Meter\n",
      "True\n",
      "Mostly True\n",
      "Half True\n",
      "Mostly False\n",
      " False\n",
      "Pants on Fire\n",
      "Promises\n",
      "Biden Promise Tracker\n",
      "Trump-O-Meter\n",
      "Obameter\n",
      "Latest Promises\n",
      "About Us\n",
      "Our Process\n",
      "Our Staff\n",
      "Who pays for Politifact?\n",
      "Advertise with Us\n",
      "Suggest a Fact-check\n",
      "Corrections and Updates\n",
      "Donate\n",
      " Follow us\n",
      "The Facts Newsletter\n",
      "Sign up\n",
      "Stand up for the facts!\n",
      "Misinformation isn't going away just because it's a new year. Support trusted, factual information with a tax deductible contribution to PolitiFact.\n",
      "More Info\n",
      "I would like to contribute\n",
      "One Time\n",
      "Monthly\n",
      "Yearly\n",
      "Join Now\n",
      "Citizens United\n",
      "stated on March 31, 2021 in a tweet:\n",
      "Says Joe Biden’s infrastructure plan “is the Green New Deal.”\n",
      "The White House infrastructure plan has $111 billion to improve water and sewer systems. (Shutterstock)\n",
      "By Jon Greenberg\n",
      "Citizens United calls Biden’s infrastructure plan the Green New Deal. It isn’t.\n",
      "If Your Time is short\n",
      "The White House infrastructure plan would cost about $2.3 trillion. A Green New Deal-type plan would cost $9.5 trillion.\n",
      "The Green New Deal included broader social economic goals, such as a guaranteed livable wage, affordable higher education and universal health care.\n",
      "See the sources for this fact-check\n",
      "Republican opposition to President Joe Biden’s infrastructure proposal has been swift and vocal.\n",
      "Senate Minority Leader Mitch McConnell said that as written, the $2.3 trillion American Jobs Plan released March 31 was a nonstarter. The conservative PAC Citizens United put Biden’s plan in the same boat as the Green New Deal, a sweeping environmental and social justice agenda that Republicans have condemned.\n",
      "\"Does this sound like an infrastructure bill to you?\" the group tweeted March 31, with a link to a New York Times article about the proposal. \"It's not. It's the Green New Deal. \"\n",
      "Does this sound like an infrastructure bill to you? It's not. It's the Green New Deal. \"It is the first step in a two-part agenda to overhaul American capitalism, fight climate change and attempt to improve the productivity of the economy.\"https://t.co/ajIoRCttgl— Citizens United (@Citizens_United) March 31, 2021 \n",
      "The Times article described Biden’s plan as the first step in a legislative package that aimed to boost productivity, fight climate change and \"overhaul American capitalism.\"\n",
      "During the presidential campaign, Biden said he does not support the Green New Deal. His current proposal is a blend of money for traditional brick-and-mortar infrastructure — roads, water supplies, broadband, etc. — clean energy and improved manufacturing, and social service infrastructure, meaning caregivers for seniors and the disabled.\n",
      "We called and emailed Citizens United to ask on what basis they equated the White House initiative with the Green New Deal. We did not hear back.\n",
      "There’s overlap between the two, but also considerable differences.\n",
      "Differences in size and scope\n",
      "The Green New Deal was a House resolution introduced by Rep. Alexandria Ocasio-Cortez, D-N.Y., that laid out a set of climate, economic and social goals. Ocasio-Cortez criticized the Biden plan, saying \"This is not nearly enough.\"\n",
      "The 2019 resolution was not a line-by-line spending plan. But the Green New Deal inspired the crafting of the THRIVE Act, legislation due to be introduced in April by a group of Democrats in Congress to advance the goals of the resolution.\n",
      "Featured Fact-check\n",
      "Facebook posts\n",
      "stated on March 29, 2021 in a Facebook post\n",
      "Georgia’s new voting law “makes it a JAIL-TIME CRIME to drop off grandma’s absentee ballot in a dropbox.”\n",
      " \n",
      "By Amy Sherman • March 30, 2021\n",
      "The THRIVE Act does have a proposed budget. The Green New Deal Network, a group of advocacy groups, summarized it in a spreadsheet, and it comes out to much more than the American Jobs Plan. \n",
      "Over a 10-year span, it would spend about $9.5 trillion, or about $7 trillion more than Biden’s proposal. Two of the largest differences are in the areas of clean energy and agriculture.\n",
      "The THRIVE Act would spend about 10 times more than the American Jobs Plan on clean energy. For agriculture, the White House has no spending line, while the THRIVE Act has $1.6 trillion to support farming that uses less fossil fuels and locks more carbon in the soil. (The recently passed stimulus law provided about $5.6 billion in aid to farmers and rural communities.)\n",
      "Here is our summary of how the two spending plans compare across some major categories.\n",
      "The American Jobs Plan also includes about $480 billion to boost manufacturing and research and development, some of which might boost clean energy. The THRIVE Act folds money for those activities into other line items, primarily its investments in clean energy.\n",
      "Ryan Schleeter, spokesman for Greenpeace USA, a Green New Deal Network member, said it is misleading to equate Biden’s proposal with the Green New Deal.\n",
      "\"The American Jobs Plan is similar in intent to the THRIVE Act, but far narrower in scope and scale,\" Schleeter said.\n",
      "Among the broader items on the original Green New Deal agenda were a guaranteed livable wage, affordable higher education and universal health care. The American Jobs Plan does not include those elements.\n",
      "Our ruling\n",
      "Citizens United said that Biden’s infrastructure proposal is the Green New Deal.\n",
      "The two plans share some common approaches, but a spending plan inspired by the Green New Deal is about four times larger than the Biden plan. The Green New Deal also advocates broader social goals that are absent from the White House infrastructure proposal.\n",
      "We rate this claim Mostly False.\n",
      " \n",
      "Our Sources\n",
      "Citizens United, tweet, March 31, 2021\n",
      "New York Times, Biden, in Pennsylvania, Details $2 Trillion Infrastructure Plan, March 31, 2021\n",
      "Alexandria Ocasio-Cortez, tweet, March 31, 2021\n",
      "Sierra Club, White House BBB package and THRIVE, March 31, 2021\n",
      "White House, Fact sheet: The American Jobs Plan, March 31, 2021\n",
      "Green New Deal Network, THRIVE Act, accessed April 2, 2021\n",
      "PolitiFact, 7 questions about the Green New Deal, Feb. 12, 2019\n",
      "Green New Deal Resolution, Feb. 7, 2019\n",
      "U.S. Department of Agriculture, United States Department of Agriculture Provisions in H.R. 1319, the American Rescue Plan, March 10, 2021\n",
      "Email exchange, Ryan Schleeter, spokesman, Greenpeace USA, April 1, 2021\n",
      "Email exchange, Ben Beachy, director, Living Economy, Sierra Club, April 1, 2021\n",
      " \n",
      "Read About Our Process\n",
      "The Principles of the Truth-O-Meter\n",
      "Browse the Truth-O-Meter\n",
      "More by Jon Greenberg\n",
      "Instagram posts\n",
      "stated on April 8, 2021 an Instagram post:\n",
      "Says Officer Derek Chauvin’s knee was “not on neck of George Floyd.”\n",
      "By Jon Greenberg • April 9, 2021\n",
      "Tim Scott\n",
      "stated on April 6, 2021 a tweet:\n",
      "Says Georgia “has more day-of voting rights than Colorado.”\n",
      "By Jon Greenberg • April 7, 2021\n",
      "Citizens United\n",
      "stated on March 31, 2021 a tweet:\n",
      "Says Joe Biden’s infrastructure plan “is the Green New Deal.”\n",
      "By Jon Greenberg • April 2, 2021\n",
      "Instagram posts\n",
      "stated on March 30, 2021 an Instagram post:\n",
      "Calls COVID-19 vaccine a “non-FDA-approved experimental agent.”\n",
      "By Jon Greenberg • March 31, 2021\n",
      "Donald Trump\n",
      "stated on March 29, 2021 a statement given to the press:\n",
      "Says Deborah Birx “traveled a great distance to see her family for Thanksgiving, only to have them call the police and turn her in. She then ... resigned.”\n",
      "By Jon Greenberg • March 30, 2021\n",
      "Cathy McMorris Rodgers\n",
      "stated on March 18, 2021 a House hearing:\n",
      "The Democratic clean energy plan is pro-China, because \"90% of the solar panels, 80% of the wind machines, 90% of the rare earth minerals … are in Asia or in China.”\n",
      "By Jon Greenberg • March 29, 2021\n",
      "Viral image\n",
      "stated on March 22, 2021 a tweet:\n",
      "These 11 mass shootings involved an AR-15-style weapon.\n",
      "By Jon Greenberg • March 24, 2021\n",
      "Kevin McCarthy\n",
      "stated on March 14, 2021 an interview on Fox News:\n",
      "“Democrats have accomplished a lot in just 2 months ... 1 Million energy jobs destroyed.”\n",
      "By Jon Greenberg • March 17, 2021\n",
      "Kevin McCarthy\n",
      "stated on March 14, 2021 a tweet:\n",
      "The COVID economic relief package “included $600 million for San Francisco, part of which goes to cover the tab for free alcohol and marijuana for the homeless.\"\n",
      "By Jon Greenberg • March 16, 2021\n",
      " \n",
      "Bloggers\n",
      "stated on March 8, 2021 a post on Trending Politics:\n",
      "“Schumer and Pelosi sneak funding into COVID bill.”\n",
      "By Jon Greenberg • March 11, 2021\n",
      "Tom Cotton\n",
      "stated on March 6, 2021 a tweet:\n",
      "“Senate Democrats just voted to give stimulus checks to criminals in prison.”\n",
      "By Jon Greenberg • March 9, 2021\n",
      "Marco Rubio\n",
      "stated on March 6, 2021 a tweet:\n",
      "In rejecting his amendment, “Democrats voted to send reopening money to schools that refuse to reopen.”\n",
      "By Jon Greenberg • March 9, 2021\n",
      "Rick Scott\n",
      "stated on March 1, 2021 an interview with CBS News:\n",
      "The $1.9 trillion relief package is “about a bridge for Chuck Schumer, a tunnel for Nancy Pelosi.”\n",
      "By Jon Greenberg • March 2, 2021\n",
      "Ted Budd\n",
      "stated on February 24, 2021 a speech:\n",
      "“There’s about 9% of (the American Rescue Plan) actually going to COVID, meaning 91% of it is not even COVID-related.”\n",
      "By Jon Greenberg • March 1, 2021\n",
      "Mitch McConnell\n",
      "stated on February 24, 2021 a Senate floor speech:\n",
      "In the American Rescue Plan, “just about 1% of the money is for vaccines.”\n",
      "By Jon Greenberg • February 26, 2021\n",
      "Citizens United calls Biden’s infrastructure plan the Green New Deal. It isn’t.\n",
      "Joe Biden\n",
      "stated on April 21, 2021 in remarks:\n",
      "Says his administration’s efforts have led to more school reopenings.\n",
      "By Amy Sherman • April 27, 2021\n",
      "Instagram posts\n",
      "stated on April 15, 2021 in an Instagram post:\n",
      "Mariah Carey faked getting her COVID-19 vaccine because the needle can’t be seen coming out of her arm.\n",
      "By Samantha Putterman • April 27, 2021\n",
      "Donald Trump\n",
      "stated on April 19, 2021 in an interview on Fox News:\n",
      "“Human trafficking and drugs” at the Mexico border have “doubled, tripled and quadrupled” since Joe Biden became president.\n",
      "By Tom Kertscher • April 27, 2021\n",
      "Facebook posts\n",
      "stated on April 25, 2021 in a Facebook post:\n",
      "“The Biden Administration is buying Kamala Harris’ book with our taxpayer dollars.”\n",
      "By Ciara O'Rourke • April 27, 2021\n",
      "Viral image\n",
      "stated on April 23, 2021 in a Facebook post:\n",
      "Photo shows Facebook’s “community standards team.”\n",
      "By Ciara O'Rourke • April 27, 2021\n",
      "Facebook posts\n",
      "stated on April 18, 2021 in a Facebook post:\n",
      "COVID-19 “has killed less people than the damn flu.”\n",
      "By Ciara O'Rourke • April 27, 2021\n",
      "Viral image\n",
      "stated on April 26, 2021 in a Facebook post:\n",
      "Says the Memphis Police Department “will no longer respond” to crimes including larceny, breaking and entering, and motor vehicle theft.\n",
      "By Ciara O'Rourke • April 27, 2021\n",
      "Ted Cruz\n",
      "stated on April 22, 2021 in a press conference:\n",
      "“You didn't see Republicans when we had control of the Senate try to rig the game.”\n",
      "By Louis Jacobson • April 27, 2021\n",
      "Van Wanggaard\n",
      "stated on April 19, 2021 in Statement:\n",
      "Foxconn “is the largest taxpayer in Racine County.”\n",
      "By Haley BeMiller • April 27, 2021\n",
      "Fox News Channel\n",
      "stated on April 23, 2021 in a TV graphic:\n",
      "\"Biden's climate requirements\" will \"cut 90% of red meat from diet\" to a \"max 4 lbs per year\" and \"one burger per month.\"\n",
      "By Bill McCarthy • April 26, 2021\n",
      "Load more\n",
      "Support independent fact-checking.\n",
      "Become a member!\n",
      "In a world of wild talk and fake news, help us stand up for the facts.\n",
      "Sign me up\n",
      "Offices\n",
      "District of Columbia\n",
      "Florida\n",
      "People\n",
      "All People\n",
      "Joe Biden\n",
      "Kamala Harris\n",
      "Charles Schumer\n",
      "Mitch McConnell\n",
      "Bernie Sanders\n",
      "Nancy Pelosi\n",
      "Donald Trump\n",
      "State Editions\n",
      "California\n",
      "Florida\n",
      "Illinois\n",
      "Iowa\n",
      "Missouri\n",
      "New York\n",
      "North Carolina\n",
      "Pennsylvania\n",
      "Texas\n",
      "Virginia\n",
      "West Virginia\n",
      "Vermont\n",
      "Wisconsin\n",
      "Michigan\n",
      "About Us\n",
      "Our Process\n",
      "Our Staff\n",
      "Who pays for PolitiFact?\n",
      "Advertise with Us\n",
      "Corrections and Updates\n",
      "RSS Feeds\n",
      "Recent Articles and Fact-checks\n",
      "Recent Fact-checks\n",
      "Suggest a Fact-check\n",
      "Follow us\n",
      "The Facts Newsletter\n",
      "Sign up\n",
      "Terms & Conditions\n",
      "Privacy Policy\n",
      "Copyright\n",
      "©All Rights Reserved Poynter Institute 2020, a 501(c)(3) nonprofit organization\n",
      "\n"
     ]
    }
   ],
   "source": [
    "# solution\n",
    "\n",
    "url = 'https://www.politifact.com/factchecks/2021/apr/02/citizens-united/citizens-united-calls-bidens-infrastructure-plan-g/'\n",
    "html = requests.get(url)\n",
    "soup = BeautifulSoup(html.text)\n",
    "\n",
    "# Faster way to remove non-visible tags from soup:\n",
    "[s.decompose() for s in soup(tags_blacklist)]\n",
    "\n",
    "# Don't strip spaces in-between elements, to avoid clobbering word boundaries\n",
    "visible = soup.get_text(strip=False)\n",
    "\n",
    "import re\n",
    "#visible = re.sub(r\"\\n+\", \"\\n\", visible) # This works, but less extensible than below\n",
    "\n",
    "import regex # better unicode support than Python's built-in re package\n",
    "\n",
    "# Use regex to replace all consecutive spaces (including in unicode), tabs, or \"|\"s with a single space\n",
    "visible = regex.sub(r\"[ \\t\\h\\|]+\", \" \", visible)\n",
    "# Replace any consecutive linebreaks with a single space\n",
    "visible = regex.sub(r\"[\\n\\r\\f\\v]+\", \"\\n\", visible)\n",
    "\n",
    "print(visible)"
   ]
  },
  {
   "cell_type": "markdown",
   "metadata": {},
   "source": [
    "### Challenge\n",
    "\n",
    "You might have noticed that when we scraped HTML above from [this claim review by PolitiFact](https://www.politifact.com/factchecks/2021/apr/02/citizens-united/citizens-united-calls-bidens-infrastructure-plan-g/), we got headers and tags like this:\n",
    "```html\n",
    "<p>Misinformation isn't going away just because it's a new year. Support trusted, factual information with a tax deductible contribution to PolitiFact.</p>\n",
    "<p>\n",
    "<a class=\"m-disruptor-content__link\" href=\"/membership/\">More Info</a>\n",
    "</p>\n",
    "<p class=\"c-image__caption-inner copy-xs\">\n",
    "The White House infrastructure plan has $111 billion to improve water and sewer systems. (Shutterstock)\n",
    "</p>\n",
    "```\n",
    "Use what you now know about identifying HTML, removing tags, and cleaning spacing to scrape a clean explanation from the body of this article. \n",
    "\n",
    "_Hint:_ Use your browser to inspect this website's HTML and identify any unique types and/or classes that enclose the explanation (and nothing else)."
   ]
  },
  {
   "cell_type": "code",
   "execution_count": 5,
   "metadata": {},
   "outputs": [
    {
     "name": "stdout",
     "output_type": "stream",
     "text": [
      "\n",
      "Republican opposition to President Joe Biden’s infrastructure proposal has been swift and vocal.\n",
      "Senate Minority Leader Mitch McConnell said that as written, the $2.3 trillion American Jobs Plan released March 31 was a nonstarter. The conservative PAC Citizens United put Biden’s plan in the same boat as the Green New Deal, a sweeping environmental and social justice agenda that Republicans have condemned.\n",
      "\"Does this sound like an infrastructure bill to you?\" the group tweeted March 31, with a link to a New York Times article about the proposal. \"It's not. It's the Green New Deal. \"\n",
      "Does this sound like an infrastructure bill to you? It's not. It's the Green New Deal. \"It is the first step in a two-part agenda to overhaul American capitalism, fight climate change and attempt to improve the productivity of the economy.\"https://t.co/ajIoRCttgl— Citizens United (@Citizens_United) March 31, 2021 \n",
      "The Times article described Biden’s plan as the first step in a legislative package that aimed to boost productivity, fight climate change and \"overhaul American capitalism.\"\n",
      "During the presidential campaign, Biden said he does not support the Green New Deal. His current proposal is a blend of money for traditional brick-and-mortar infrastructure — roads, water supplies, broadband, etc. — clean energy and improved manufacturing, and social service infrastructure, meaning caregivers for seniors and the disabled.\n",
      "We called and emailed Citizens United to ask on what basis they equated the White House initiative with the Green New Deal. We did not hear back.\n",
      "There’s overlap between the two, but also considerable differences.\n",
      "Differences in size and scope\n",
      "The Green New Deal was a House resolution introduced by Rep. Alexandria Ocasio-Cortez, D-N.Y., that laid out a set of climate, economic and social goals. Ocasio-Cortez criticized the Biden plan, saying \"This is not nearly enough.\"\n",
      "The 2019 resolution was not a line-by-line spending plan. But the Green New Deal inspired the crafting of the THRIVE Act, legislation due to be introduced in April by a group of Democrats in Congress to advance the goals of the resolution.\n",
      "Featured Fact-check\n",
      "Facebook posts\n",
      "stated on March 29, 2021 in a Facebook post\n",
      "Georgia’s new voting law “makes it a JAIL-TIME CRIME to drop off grandma’s absentee ballot in a dropbox.”\n",
      " \n",
      "By Amy Sherman • March 30, 2021\n",
      "The THRIVE Act does have a proposed budget. The Green New Deal Network, a group of advocacy groups, summarized it in a spreadsheet, and it comes out to much more than the American Jobs Plan. \n",
      "Over a 10-year span, it would spend about $9.5 trillion, or about $7 trillion more than Biden’s proposal. Two of the largest differences are in the areas of clean energy and agriculture.\n",
      "The THRIVE Act would spend about 10 times more than the American Jobs Plan on clean energy. For agriculture, the White House has no spending line, while the THRIVE Act has $1.6 trillion to support farming that uses less fossil fuels and locks more carbon in the soil. (The recently passed stimulus law provided about $5.6 billion in aid to farmers and rural communities.)\n",
      "Here is our summary of how the two spending plans compare across some major categories.\n",
      "!function(e,i,n,s){var t=\"InfogramEmbeds\",d=e.getElementsByTagName(\"script\")[0];if(window[t]&&window[t].initialized)window[t].process&&window[t].process();else if(!e.getElementById(n)){var o=e.createElement(\"script\");o.async=1,o.id=n,o.src=\"https://e.infogram.com/js/dist/embed-loader-min.js\",d.parentNode.insertBefore(o,d)}}(document,0,\"infogram-async\");\n",
      "The American Jobs Plan also includes about $480 billion to boost manufacturing and research and development, some of which might boost clean energy. The THRIVE Act folds money for those activities into other line items, primarily its investments in clean energy.\n",
      "Ryan Schleeter, spokesman for Greenpeace USA, a Green New Deal Network member, said it is misleading to equate Biden’s proposal with the Green New Deal.\n",
      "\"The American Jobs Plan is similar in intent to the THRIVE Act, but far narrower in scope and scale,\" Schleeter said.\n",
      "Among the broader items on the original Green New Deal agenda were a guaranteed livable wage, affordable higher education and universal health care. The American Jobs Plan does not include those elements.\n",
      "Our ruling\n",
      "Citizens United said that Biden’s infrastructure proposal is the Green New Deal.\n",
      "The two plans share some common approaches, but a spending plan inspired by the Green New Deal is about four times larger than the Biden plan. The Green New Deal also advocates broader social goals that are absent from the White House infrastructure proposal.\n",
      "We rate this claim Mostly False.\n",
      " \n",
      "\n"
     ]
    }
   ],
   "source": [
    "# solution\n",
    "\n",
    "# Set URL to scrape\n",
    "url = 'https://www.politifact.com/factchecks/2021/apr/02/citizens-united/citizens-united-calls-bidens-infrastructure-plan-g/'\n",
    "\n",
    "# Scrape HTML with requests and beautifulsoup\n",
    "html = requests.get(url) \n",
    "soup = BeautifulSoup(html.text)\n",
    "\n",
    "explanation = soup.find('article', class_='m-textblock').get_text() # identify this class from looking at HTML\n",
    "\n",
    "import re\n",
    "explanation = re.sub(r\"\\n+\", \"\\n\", explanation)\n",
    "\n",
    "print(explanation)"
   ]
  },
  {
   "cell_type": "markdown",
   "metadata": {},
   "source": [
    "Compare the output from this focused, site-specific scraping approach with that from the blacklist method above. <br/>\n",
    "**Which method gives the cleaner output? Which method is more extensible?**"
   ]
  },
  {
   "cell_type": "markdown",
   "metadata": {},
   "source": [
    "# Crawling broadly with `Scrapy` <a id='scrapy'> </a>"
   ]
  },
  {
   "cell_type": "markdown",
   "metadata": {},
   "source": [
    "## Create a project"
   ]
  },
  {
   "cell_type": "markdown",
   "metadata": {},
   "source": [
    "## A simple (narrow) spider <a id='simple'> </a>"
   ]
  },
  {
   "cell_type": "markdown",
   "metadata": {},
   "source": [
    "```python\n",
    "import scrapy\n",
    "\n",
    "class SimpleSpider(scrapy.Spider):\n",
    "    name = \"simple\"\n",
    "    start_urls = [\n",
    "        'http://quotes.toscrape.com/page/1/',\n",
    "        'http://quotes.toscrape.com/page/2/',\n",
    "    ]\n",
    "\n",
    "    def parse(self, response):\n",
    "        page = response.url.split(\"/\")[-2]\n",
    "        filename = 'quotes-%s.html' % page\n",
    "        with open(filename, 'wb') as f:\n",
    "            f.write(response.body)\n",
    "```"
   ]
  },
  {
   "cell_type": "markdown",
   "metadata": {},
   "source": [
    "### How to run the spider"
   ]
  },
  {
   "cell_type": "markdown",
   "metadata": {},
   "source": [
    "```shell\n",
    "$ scrapy crawl simple\n",
    "```"
   ]
  },
  {
   "cell_type": "markdown",
   "metadata": {},
   "source": [
    "### Challenge\n",
    "Modify and run the spider script above to scrape this short list of `start_urls`: \n",
    "```python\n",
    "['http://www.baylessk12.org/', 'https://crcc.doniphanr1.k12.mo.us/', 'https://www.hazelwoodschools.org/southeastmiddle']\n",
    " ```"
   ]
  },
  {
   "cell_type": "markdown",
   "metadata": {},
   "source": [
    "## Extracting data"
   ]
  },
  {
   "cell_type": "markdown",
   "metadata": {},
   "source": [
    "### Challenge\n",
    "Inspect [quotes.toscrape.com](quotes.toscrape.com) for the selectors associated with quotes. Use this information to display the text of one of the quotes in the scrapy shell. <br>\n",
    "**Hint 1:** If you need help getting a better sense of website structure, use the HTML tree below (under \"Extracting quotes and authors\") as a visual guide.<br>\n",
    "**Hint 2:** You can subset within selectors by using periods and spaces. For instance, the following produces a SelectorList for the class2 of each type2 within the class1 of each type1:\n",
    "```shell\n",
    "response.css('type1.class1 type2.class2')\n",
    "```"
   ]
  },
  {
   "cell_type": "markdown",
   "metadata": {},
   "source": [
    "**Solution**\n",
    "\n",
    "```shell\n",
    "response.css(div.quote span.text::text).get()\n",
    "```"
   ]
  },
  {
   "cell_type": "markdown",
   "metadata": {},
   "source": [
    "## Link extraction in a (broad) spider <a id='linkextraction'> </a>"
   ]
  },
  {
   "cell_type": "markdown",
   "metadata": {},
   "source": [
    "### Challenge\n",
    "\n",
    "Adapt the `CrawlSpider` in `broad.py` to scrape the text, author, and tag for each quote across all the page on `http://quotes.toscrape.com`. Assign the `text`, `author`, and `tags` fields to Items, then yield the Items. Edit the spider script first, then run it via your terminal, then check the output to make sure.\n",
    "\n",
    "```python\n",
    "# solution\n",
    "\n",
    "from schools.items import SchoolsItem\n",
    "\n",
    "class BroadSpider(CrawlSpider):\n",
    "    name = 'broad'\n",
    "    allowed_domains = ['quotes.toscrape.com']\n",
    "    start_urls = ['quotes.toscrape.com/']\n",
    "\n",
    "    rules = (\n",
    "        Rule(LinkExtractor(), \n",
    "             callback='parse_item', \n",
    "             follow=True),\n",
    "    )\n",
    "\n",
    "    def parse_item(self, response):\n",
    "        for quote in response.css('div.quote'):\n",
    "            item = SchoolsItem() # initialize\n",
    "            \n",
    "            item['text'] = quote.css('span.text::text').get(),\n",
    "            item['author'] = quote.css('small.author::text').get(),\n",
    "            item['tags'] = quote.css('div.tags a.tag::text').getall(),\n",
    "    \n",
    "            yield item\n",
    "```\n",
    "\n",
    "Call it like so:\n",
    "```shell\n",
    "scrapy crawl broad -o quotes_broad.json\n",
    "```"
   ]
  },
  {
   "cell_type": "markdown",
   "metadata": {},
   "source": [
    "### Challenge\n",
    "\n",
    "Use what you learned above about removing tags with a blacklist to rewrite the `parse_item()` function in the `BroadSpider()` so that it doesn't depend on website structure (HTML, CSS, XPath, etc.). In other words, write a truly broad crawler that only returns text.\n",
    "\n",
    "Make sure to clean up the spacing: convert multiple newlines into a single one or a space, depending on the output format you want. \n",
    "\n",
    "_Hint:_ Check your output--is it missing anything important? Consider removing specific tags from the blacklist. \n",
    "\n",
    "\n",
    "```python\n",
    "# solution\n",
    "\n",
    "import re\n",
    "from bs4 import BeautifulSoup\n",
    "...\n",
    "def parse_item(self, response):\n",
    "    item = SchoolsItem()\n",
    "        \n",
    "    # Load HTML into BeautifulSoup, extract text\n",
    "    soup = BeautifulSoup(response.body, 'html.parser') # default parser, 'lxml' is faster\n",
    "        \n",
    "    # Remove non-visible tags from soup\n",
    "    [tag.decompose() for tag in soup(tags_blacklist)]\n",
    "        \n",
    "    # Extract text, remove <p> tags\n",
    "    visible_text = soup.get_text(strip = False) # get text from each chunk, leave unicode spacing (e.g., `\\xa0`) for now to avoid globbing words\n",
    "        \n",
    "    # Replace any consecutive linebreaks with a single newline\n",
    "    visible_text = re.sub(r\"[ *\\n *]+\", \" \", visible_text).strip() # remove trailing whitespaces too\n",
    "        \n",
    "    item['text'] = visible_text # assign text to item\n",
    "    item['url'] = response.url # assign url too\n",
    "        \n",
    "    return item\n",
    "```"
   ]
  }
 ],
 "metadata": {
  "anaconda-cloud": {},
  "kernelspec": {
   "display_name": "Python 3 (ipykernel)",
   "language": "python",
   "name": "python3"
  },
  "language_info": {
   "codemirror_mode": {
    "name": "ipython",
    "version": 3
   },
   "file_extension": ".py",
   "mimetype": "text/x-python",
   "name": "python",
   "nbconvert_exporter": "python",
   "pygments_lexer": "ipython3",
   "version": "3.10.5"
  }
 },
 "nbformat": 4,
 "nbformat_minor": 1
}
